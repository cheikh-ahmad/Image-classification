{
 "cells": [
  {
   "cell_type": "markdown",
   "metadata": {},
   "source": [
    "**NOM:** GUEYE\n",
    "\n",
    "**Prénom:** Cheikh Mouhamadou Moustapha\n",
    "\n",
    "**N° étudiant$\\cdot$e:** 22220071"
   ]
  },
  {
   "cell_type": "markdown",
   "metadata": {
    "tags": []
   },
   "source": [
    "# TP : Modélisation et résolution d'un problème de classification"
   ]
  },
  {
   "cell_type": "markdown",
   "metadata": {},
   "source": [
    "**Instructions:**\n",
    "\n",
    "- Je vous conseille de réaliser ce devoir avec `jupyter lab` et non pas `jupyter notebook`. La raison est que `jupyter notebook` a parfois du mal à afficher des images. Si vous ne voyez pas d'image de chat en Section **I.0**, c'est qu'il y a un problème.\n",
    "- Le devoir vous a été distribué sous la forme d'un dossier contenant un notebook et d'autres fichiers. Vous pouvez déplacer le dossier où vous voulez dans votre ordinateur, mais ne changez pas la structure de ce dossier : le notebook a besoin de ces fichiers auxiliaires pour fonctionner!\n",
    "- Lorsque vous rendrez votre devoir il suffira de remettre votre notebook (fichier `.ipynb`), et pas tout le dossier. Vous remettrez également un pdf contenant vos notes manuscrites, cf. plus bas.\n",
    "- Lorsque vous avez terminé votre devoir, vous devrez exécuter la commande `restart the kernel and run all cells`. Ceci vous permettra de vérifier que vous n'avez pas laissé des erreurs. C'est aussi de cette manière que j'évaluerai votre devoir, donc autant vous assurer vous-même qu'il n'y aura pas de mauvaises surprises!\n",
    "- Certaines questions nécessitent de faire tourner un algorithme. Je vous demande de ne pas faire tourner vos algorithmes plus qu'une trentaine de secondes. Si vous laissez des paramètres tels que l'appel à une fonction prenne plus d'une minute, je considèrerai le résultat comme faux.\n",
    "- Certaines questions de la partie **II.B** demandent que vous fassiez des calculs. Ces questions sont signalées par l'émoji: 📝. Vous ferez ces calculs sur papier, que vous prendrez en photo/scannerez et transmettrez (sous forme de **pdf unique**) en même temps que votre notebook.\n",
    "- D'autres questions vous demandent de donner votre opinion sur un résultat (\"qu'en pensez-vous\"). Vous pourrez répondre directement en Markdown dans le notebook. Ne négligez pas ces questions, elles ont toute leur importance dans l'évaluation.\n",
    "- Le devoir est à rendre au plus tard le Lundi 29 Mai 2023, à **midi**, sur Moodle. Tout retard sera sanctionné par une perte de points."
   ]
  },
  {
   "cell_type": "markdown",
   "metadata": {},
   "source": [
    "**Description du devoir:**\n",
    "\n",
    "- la partie **I** est une mise en bouche avec le problème.\n",
    "- dans la partie **II** vous mettrez en valeur certaines des choses que vous avez appris en cours. C'est la partie centrale du devoir, donc la plus importante.\n",
    "- la partie **III** est une application à un problème de traitement de données, qui consiste à exploiter les résultats de la partie **II** sur un vrai problème. C'est là que vous montrerez si vous avez compris ce qui se passe dans la partie **II**."
   ]
  },
  {
   "cell_type": "code",
   "execution_count": 516,
   "metadata": {},
   "outputs": [],
   "source": [
    "# cette cellule importe les modules nécéssaires à ce TP. En cas d'erreur, vous devrez au préalable installer les modules manquants.\n",
    "import numpy\n",
    "import matplotlib \n",
    "import scipy\n",
    "import sklearn"
   ]
  },
  {
   "cell_type": "markdown",
   "metadata": {
    "tags": []
   },
   "source": [
    "# I. Introduction"
   ]
  },
  {
   "cell_type": "markdown",
   "metadata": {
    "tags": []
   },
   "source": [
    "## 0. Description générale du problème"
   ]
  },
  {
   "cell_type": "markdown",
   "metadata": {},
   "source": [
    "On suppose que l'on dispose d'un certain type de données, et on veut être capable de les **classer** en deux groupes. Ce type de problème peut être très facile à réaliser pour un humain, mais toute la question est de savoir comment automatiser cette prise de décision pour l'implémenter sur une machine.\n",
    "\n",
    "| Un problème simple de classification simple pour un humain | |\n",
    "|---|---|\n",
    "| ![](images/cat.jpg) | ![](images/dog.jpg) |\n",
    "| Type de données: photos | Classes possibles : Chat ou chien |\n",
    "\n",
    "L'objectif de ce TP est de vous montrer comment résoudre ce type problème (en tout cas lorsqu'il n'est pas trop difficile). Dans un premier temps vous vous familiariserez avec le sujet sur des données synthétiques, puis vous travaillerez ensuite avec de vraies données: des photos contenant des caractères écrits à la main."
   ]
  },
  {
   "cell_type": "markdown",
   "metadata": {},
   "source": [
    "**Présentation du problème**\n",
    "\n",
    "Une façon de modéliser ce problème est la suivante: on se retrouve face à une donnée $x \\in \\mathbb{R}^N$ et on veut lui attribuer une classe. Pour simplifier, lorsqu'on a un problème à deux classes comme dans les exemples ci-dessus, on dit souvent que les deux classes sont $\\{-1,+1\\}$. \n",
    "Par exemple $-1$ pourrait désigner \"chien\" et $1$ désignerait \"chat\".\n",
    "\n",
    "Ce que l'on souhaite donc implémenter est ce que l'on appelle un **classifieur**, c'est-à-dire une fonction $c : \\mathbb{R}^N \\longrightarrow \\{-1,+1\\}$ qui prend en entrée une donnée $x \\in \\mathbb{R}^N$, et qui donne en sortie une étiquette $\\pm 1$. Evidemment on ne va pas prendre n'importe quelle fonction $\\mathbb{R}^N \\longrightarrow \\{-1,+1\\}$, on veut que notre calssifieur fasse un \"bon\" travail en classant les données qu'on lui fournit.\n",
    "\n",
    "**Comment faire ça?**\n",
    "\n",
    "En pratique on suit le processus suivant: \n",
    "\n",
    "*1) Consititution d'une base de données*: on se procure\n",
    "\n",
    "- Une famille de données $\\{x_1, \\dots, x_m\\} \\subset \\mathbb{R}^N$ (par exemple tout un tas de photos de chats et de chiens)\n",
    "- La famille des étiquettes correspndantes $\\{y_1, \\dots, y_m\\} \\subset \\{ -1,+1\\}$, où chaque $y_i$ a été bien choisi par un humain\n",
    "\n",
    "Par exemple, en reprenant la convention ci-dessus, si $x_{47}$ est une photo de chien, alors $y_{47}=-1$ (rappelons que toute photo peut être vue comme un vecteur de $\\mathbb{R}^N$ où $N$ correspond au nombre de pixels de la photo).\n",
    "\n",
    "*2) La phase d'entraînement*: à partir de cette base de données, on va construire un classifieur $c : \\mathbb{R}^N \\longrightarrow \\{-1,+1\\}$, en demandant à ce que ce classifieur verifie, pour tout point de notre base de données, $c(x_i) = y_i$. Ainsi, on espère que si le classifieur fonctionne bien sur notre base de données, alors il fonctionnera également lorsqu'on lui présentera de nouvelles données.\n",
    "\n",
    "Ce TP se focalisera sur cette phase, le but étant de montrer que derrière ce problème se cache en fait un problème d'optimisation, que l'on va résoudre.\n",
    "\n",
    "*3) La phase de test*: Une fois que l'on aura trouvé notre classifieur, il faudra bien tester si il marche bien! Pour cela, on se constituera une nouvelle base de données $\\{(\\hat x_i,\\hat y_i)\\}$ similaire à celle mentionnée plus haut, et on regardera si l'étiquette prédite $c(\\hat x_i)$ est bien égale à $\\hat y_i$. On pourra par exemple compter le nombre de fois où le classifieur trouve la bonne réponse, et donc en déduire un pourcentage de succès estimé.\n",
    "\n",
    "**Rq:** Noter qu'en pratique on ne constitue pas deux bases de données. On construit une grosse base de données une fois pour toute, puis on la divise en deux parties: les données dites \"d'entrainement\" qui vont servir à construire le classifieur $c$, et d'autre part les données de \"test\" qui vont permettre d'évaluer si notre classifieur marche bien sur de nouvelles données.\n",
    "\n"
   ]
  },
  {
   "cell_type": "markdown",
   "metadata": {
    "tags": []
   },
   "source": [
    "## 1. Premier contact avec le problème"
   ]
  },
  {
   "cell_type": "code",
   "execution_count": 517,
   "metadata": {},
   "outputs": [],
   "source": [
    "import numpy as np\n",
    "import numpy.linalg as la\n",
    "import matplotlib.pyplot as plt"
   ]
  },
  {
   "cell_type": "markdown",
   "metadata": {},
   "source": [
    "**1)** On commence par importer des données"
   ]
  },
  {
   "cell_type": "code",
   "execution_count": 518,
   "metadata": {},
   "outputs": [
    {
     "data": {
      "text/plain": [
       "(200, 2)"
      ]
     },
     "execution_count": 518,
     "metadata": {},
     "output_type": "execute_result"
    }
   ],
   "source": [
    "X = np.load('data/donnees_entrainement.npy')\n",
    "#print(X)\n",
    "X.shape"
   ]
  },
  {
   "cell_type": "markdown",
   "metadata": {},
   "source": [
    "Ces données correspondent à $m$ points de $\\mathbb{R}^2$, qui sont rangées dans une matrice à $m$ lignes et 2 colonnes.\n",
    "Chaque *ligne* de la matrice correspond donc à un point de $\\mathbb{R}^2$.\n",
    "Vous pouvez regarder quelle est la taille de la matrice avec la méthode `X.shape`, ce qui vous permettra de déterminer la valuer de $m$."
   ]
  },
  {
   "cell_type": "code",
   "execution_count": 519,
   "metadata": {},
   "outputs": [
    {
     "data": {
      "text/plain": [
       "200"
      ]
     },
     "execution_count": 519,
     "metadata": {},
     "output_type": "execute_result"
    }
   ],
   "source": [
    "m = X.shape[0]\n",
    "m"
   ]
  },
  {
   "cell_type": "markdown",
   "metadata": {},
   "source": [
    "Vu que nos données sont des points du plan, on va pouvoir facilement les visualiser avec la fonction `plt.scatter` de pyplot."
   ]
  },
  {
   "cell_type": "code",
   "execution_count": 520,
   "metadata": {},
   "outputs": [
    {
     "data": {
      "image/png": "[encoded data removed]",
      "text/plain": [
       "<Figure size 640x480 with 1 Axes>"
      ]
     },
     "metadata": {},
     "output_type": "display_data"
    }
   ],
   "source": [
    "couleur = [None]*m # liste vide de taille m\n",
    "for k in range(m):\n",
    "    couleur[k] = 'green'\n",
    "_=plt.scatter(X[:, 0], X[:, 1], c=couleur)"
   ]
  },
  {
   "cell_type": "markdown",
   "metadata": {},
   "source": [
    "**2)** Vous devriez être maintenant convaincus que ce jeu de données contient deux groupes de points appartenant à des familles distinctes. Or nous n'en savons rien, à priori, le seul moyen d'en être sur est d'aller regarder les *etiquettes* correspondantes. Importons-les:"
   ]
  },
  {
   "cell_type": "code",
   "execution_count": 521,
   "metadata": {},
   "outputs": [
    {
     "name": "stdout",
     "output_type": "stream",
     "text": [
      "<class 'numpy.ndarray'>\n"
     ]
    },
    {
     "data": {
      "text/plain": [
       "(200,)"
      ]
     },
     "execution_count": 521,
     "metadata": {},
     "output_type": "execute_result"
    }
   ],
   "source": [
    "Y = np.load('data/etiquettes_entrainement.npy')\n",
    "print(type(Y))\n",
    "#print(Y.shape)\n",
    "Y.shape "
   ]
  },
  {
   "cell_type": "markdown",
   "metadata": {},
   "source": [
    "Vérifiez que ce vecteur ne contient que des étiquettes $\\pm 1$."
   ]
  },
  {
   "cell_type": "code",
   "execution_count": 522,
   "metadata": {},
   "outputs": [
    {
     "name": "stdout",
     "output_type": "stream",
     "text": [
      "Le ndarray ne contient que des valeurs de -1 et +1.\n"
     ]
    }
   ],
   "source": [
    "if np.all(np.isin(Y, [-1, 1])):\n",
    "    print(\"Le ndarray ne contient que des valeurs de -1 et +1.\")\n",
    "else:\n",
    "    print(\"Le ndarray contient d'autres valeurs en plus de -1 et +1\")"
   ]
  },
  {
   "cell_type": "markdown",
   "metadata": {},
   "source": [
    "En adaptant le code de la précédente question, affichez de nouveau ce nuage de points cette fois-ci avec deux couleurs: rouge pour les points avec l'étiquette $-1$, et bleu pour les points avec l'étiquette $+1$."
   ]
  },
  {
   "cell_type": "code",
   "execution_count": 523,
   "metadata": {},
   "outputs": [
    {
     "data": {
      "image/png": "[encoded data removed]",
      "text/plain": [
       "<Figure size 640x480 with 1 Axes>"
      ]
     },
     "metadata": {},
     "output_type": "display_data"
    }
   ],
   "source": [
    "couleur = ['blue' if y == 1 else 'red' for y in Y]\n",
    "_ = plt.scatter(X[:, 0], X[:, 1], c=couleur)"
   ]
  },
  {
   "cell_type": "markdown",
   "metadata": {},
   "source": [
    "**3)** Une approche intuitive pour classer ce problème consiste à tracer une droite qui va séparer ces deux nuages: ainsi fait, on pourra dire que tout nouveau point qui apparaitra d'un côté de la droite sera \"rouge\" et de l'autre les \"bleus\".\n",
    "\n",
    "Ici on va considérer une droite dans $\\mathbb{R}^2$ comme étant l'ensemble des points satisfaisant l'équation\n",
    "\n",
    "$$ D = \\{ x \\in \\mathbb{R}^2 \\ | \\ \\langle a, x \\rangle + b =0 \\},$$\n",
    "\n",
    "où $a \\in \\mathbb{R}^2$ et $b \\in \\mathbb{R}$ sont à choisir. On notera par la suite $w = (a,b) \\in \\mathbb{R}^2 \\times \\mathbb{R}$ le vecteur de paramètres décrivant la droite $D$.\n",
    "\n",
    "En utilisant le code ci-dessous, ajoutez le tracé d'une droite aux données, et jouez avec la valeur de $w$ pour essayer de trouver la droite qui sépare le mieux les deux classes."
   ]
  },
  {
   "cell_type": "code",
   "execution_count": 524,
   "metadata": {},
   "outputs": [],
   "source": [
    "def trace_droite(w):\n",
    "    # trace la droite des points x vérfiant l'équation <a,x>+b=0\n",
    "    # où w = (a_1, a_2, b)\n",
    "    a = w[0:2]\n",
    "    b = w[2]\n",
    "    if a[1] == 0:\n",
    "        alpha, beta = 0, 0\n",
    "    else:\n",
    "        alpha = -a[0]/a[1]\n",
    "        beta = -b/a[1]\n",
    "    abscisse = np.arange(-5,5,0.1)\n",
    "    ordonnee = alpha*abscisse + beta\n",
    "    plt.plot(abscisse, ordonnee)"
   ]
  },
  {
   "cell_type": "code",
   "execution_count": 525,
   "metadata": {},
   "outputs": [
    {
     "data": {
      "image/png": "[encoded data removed]",
      "text/plain": [
       "<Figure size 640x480 with 1 Axes>"
      ]
     },
     "metadata": {},
     "output_type": "display_data"
    }
   ],
   "source": [
    "w = np.array(X[:,0]) # à modifier\n",
    "trace_droite(w)\n",
    "_=plt.scatter(X[:, 0], X[:, 1], c=couleur)\n"
   ]
  },
  {
   "cell_type": "code",
   "execution_count": null,
   "metadata": {},
   "outputs": [],
   "source": []
  },
  {
   "cell_type": "markdown",
   "metadata": {},
   "source": [
    "Pensez-vous que certaines droites sont meilleures que les autres?"
   ]
  },
  {
   "cell_type": "markdown",
   "metadata": {},
   "source": [
    "réponse : Oui, certaines droites sont meilleures que d'autres pour séparer les deux nuages de points. En général, la meilleure droite est celle qui maximise la marge, c'est-à-dire la distance entre la droite et les points les plus proches de chaque côté. "
   ]
  },
  {
   "cell_type": "markdown",
   "metadata": {
    "tags": []
   },
   "source": [
    "## 2. Modélisation : trouver une droite séparatrice optimale"
   ]
  },
  {
   "cell_type": "markdown",
   "metadata": {
    "jp-MarkdownHeadingCollapsed": true,
    "tags": []
   },
   "source": [
    "Ici nous allons **modéliser** le problème : le formaliser sous la forme d'un problème mathématique, et plus précisément sous la forme d'un problème d'optimisation.\n",
    "\n",
    "On cherche à trouver un bon paramètre $w = (a,b)\\in \\mathbb{R}^2 \\times \\mathbb{R}$, qui va décrire une bonne droite d'équation $\\langle a,x \\rangle + b= 0$.\n",
    "Mais qu'est-ce qu'une *bonne* droite? \n",
    "\n",
    "|  | Choisir une bonne droite pour séparer les données | |\n",
    "|---|---|---|\n",
    "| ![](images/classif_neutral.png) | ![](images/classif_good.png) | ![](images/classif_bad.png) |\n",
    "| Un nouveau point apparaît | Quelle droite classifie le mieux ? |  |\n",
    "\n",
    "Au vu de la question précédente, on attend deux propriétés:\n",
    "\n",
    "- D'une part on veut clairement que la droite **sépare** bien les deux groupes de données.\n",
    "- D'autre part, on voudrait que la droite passe le **plus loin possible** des données. \n",
    "  - En effet, si un nouveau point vient à apparaitre on imagine qu'il va rester près d'un des deux nuages. Donc si la droite est loin des nuages, elle sera également loin de ce nouveau point, et on évitera le problème d'un point qui apparait trop près de la droite, en qui on n'aurait pas trop confiance.\n",
    "\n",
    "Nous allons maintenant exprimer ces deux propriétés."
   ]
  },
  {
   "cell_type": "markdown",
   "metadata": {
    "tags": []
   },
   "source": [
    "### a. Séparer les données"
   ]
  },
  {
   "cell_type": "markdown",
   "metadata": {},
   "source": [
    "\n",
    "\n",
    "La droite d'équation $\\langle a,x \\rangle + b= 0$ coupe l'espace en deux demi-espaces: les points qui vérifient $\\langle a,x \\rangle + b \\geq  0$ et ceux qui vérifient $\\langle a,x \\rangle + b \\leq 0$.\n",
    "Notre objectif est que chaque nuage (rouge et bleu) soit d'un seul côté de la droite. Il faut donc que\n",
    "- pour toute donnée $i$ telle que $y_i = +1$ (les points bleus donc), on ait $\\langle a,x_i \\rangle + b \\geq 0$,\n",
    "- pour toute donnée $i$ telle que $y_i = -1$ (les points rouges donc), on ait $\\langle a,x_i \\rangle + b \\leq 0$.\n",
    "\n",
    "Autrement dit, on veut que pour toute donnée $i$, $\\langle a,x_i \\rangle + b$ ait le même signe que $y_i$. Ce que l'on peut écrire de manière équivalente:\n",
    "\\begin{equation*}\n",
    "    (\\forall i=1,\\dots, m) \\quad y_i(\\langle a,x_i \\rangle + b) \\geq 0. \\tag{1}\n",
    "\\end{equation*}\n",
    "La propriété ci-dessus peut se réécrire comme une inégalité vectorielle $\\Phi w \\succeq 0$, pourvu qu'on introduise la bonne matrice $\\Phi$.\n",
    "En effet, si on rappelle que $w = (a,b)$ et que l'on définit $\\Phi$ par\n",
    "\\begin{equation*}\n",
    "    \\Phi :=\n",
    "    \\begin{pmatrix}\n",
    "        y_1 x_1^\\top & y_1 \\\\\n",
    "        \\vdots & \\vdots \\\\\n",
    "        y_i x_i^\\top & y_i \\\\\n",
    "        \\vdots & \\vdots \\\\\n",
    "        y_m x_m^\\top & y_m\n",
    "    \\end{pmatrix} \\in \\mathcal{M}_{m,3}(\\mathbb{R}),\n",
    "\\end{equation*}\n",
    "\n",
    "on voit que le produit entre la matrice $\\Phi$ et le vecteur $w$ vaut\n",
    "\n",
    "\n",
    "\n",
    "\\begin{eqnarray*}\n",
    "    & \n",
    "    & \n",
    "    \\begin{pmatrix}\n",
    "        a \\\\\n",
    "        b\n",
    "    \\end{pmatrix}\n",
    "    \\\\\n",
    "    \\Phi w = \n",
    "    &\n",
    "    \\begin{pmatrix}\n",
    "        y_1 x_1^\\top & y_1 \\\\\n",
    "        \\vdots & \\vdots \\\\\n",
    "        y_i x_i^\\top & y_i \\\\\n",
    "        \\vdots & \\vdots \\\\\n",
    "        y_m x_m^\\top & y_m\n",
    "    \\end{pmatrix} \n",
    "    & \n",
    "    \\begin{pmatrix}\n",
    "        y_1(\\langle a,x_1 \\rangle + b) \\\\\n",
    "        \\vdots  \\\\\n",
    "        y_i(\\langle a,x_i \\rangle + b) \\\\\n",
    "        \\vdots  \\\\\n",
    "        y_m(\\langle a,x_m \\rangle + b)\n",
    "    \\end{pmatrix},\n",
    "\\end{eqnarray*}\n",
    "\n",
    "et donc que la propriété (1) est équivalente à ce que tous les coefficients de $\\Phi w$ soient positifs, autrement dit, à ce que $\\Phi w \\succeq 0$. Noter que $\\Phi$ ne dépend que des données $x_i,y_i$ !\n",
    "\n",
    "**En résumé:** Une droite paramétrée par $w$ sépare bien les deux nuages si et seulement si $\\Phi w \\succeq 0$.\n",
    "\n",
    "\n"
   ]
  },
  {
   "cell_type": "markdown",
   "metadata": {
    "tags": []
   },
   "source": [
    "### b. Choisir la droite la plus éloignée des données"
   ]
  },
  {
   "cell_type": "markdown",
   "metadata": {
    "tags": []
   },
   "source": [
    "Supposons que l'on aie une droite $D_w$ d'équation $\\langle a,x \\rangle + b =0$, paramétrée par $w =(a,b)$.\n",
    "Etant donnée une donnée quelconque $x_i$, la distance entre cette donnée $x_i$ et la droite $D_w$ se note ${\\rm{dist}}~(x_i;D_w)$.\n",
    "Ainsi, la distance entre la droite $D_w$ et le point qui en est le plus proche est simplement le minimum de ces distances:\n",
    "$$\n",
    "\\min\\limits_{i=1,\\dots, m} \\ {\\rm{dist}}~(x_i;D_w).\n",
    "$$\n",
    "En d'autres termes, la quantité ci-dessus représente la distance entre la droite $D_w$ et le nuage de points formé par les données.\n",
    "\n",
    "Puisque notre objectif est de choisir la droite la plus **éloignée** des données, on veut donc maximiser cette distance aux données. Autrement dit, on veut trouver le paramètre $w = (a,b) \\in \\mathbb{R}^3$ qui maximise cette distance, tout en respectant la contrainte de bien séparer les données (cf. paragraphe précédent):\n",
    "\\begin{equation*}\n",
    "    {\\rm Résoudre} \n",
    "    \\quad \n",
    "    \\max\\limits_{w, \\ \\Phi w \\succeq 0} \\ \\min\\limits_{i=1,\\dots, m} \\ {\\rm{dist}}~(x_i;D_w), \n",
    "    \\quad \n",
    "    \\text{ où } D_w=\\{x \\in \\mathbb{R}^2 \\ | \\ \\langle a,x \\rangle + b =0 \\}.\n",
    "\\end{equation*}\n",
    "\n",
    "Ce problème a l'air difficile! Mais il est en fait possible de montrer qu'il est *équivalent* (on l'admet ici) à résoudre le problème suivant, qui est un peu plus sympatique:\n",
    "\\begin{equation*}\n",
    "    {\\rm Résoudre} \n",
    "    \\quad \n",
    "    \\min\\limits_{w=(a,b) \\in \\mathbb{R}^2 \\times \\mathbb{R}} \\ \\frac{1}{2} \\Vert a \\Vert^2, \n",
    "    \\quad \n",
    "    \\text{ sous la contrainte que } \\Phi w \\succeq e,\n",
    "    \\tag{P}\n",
    "\\end{equation*}\n",
    "où $e:=(1,\\dots,1)^\\top \\in \\mathbb{R}^m$.\n",
    "\n",
    "**En résumé:** Pour trouver une droite séparatrice optimale, il faut minimiser $\\Vert a \\Vert^2$ sous la contrainte que $w=(a,b)$ vérifie $\\Phi w \\succeq e$."
   ]
  },
  {
   "cell_type": "markdown",
   "metadata": {
    "tags": []
   },
   "source": [
    "### c. Le problème à résoudre : Support Vector Machine (SVM)"
   ]
  },
  {
   "cell_type": "markdown",
   "metadata": {},
   "source": [
    "Si on extrapole notre problème de séparer $m$ points dans $\\mathbb{R}^2$ à la séparation de $m$ points dans $\\mathbb{R}^n$, alors on se ramène à résoudre le problème d'optimisation quadratique convexe suivant (appelé SVM) : \n",
    "\\begin{equation*}\n",
    "    \\min\\limits_{w \\in \\mathbb{R}^{n+1}} \\ \\frac{1}{2} \\Vert Pw \\Vert^2, \n",
    "    \\quad \n",
    "    \\text{ sous la contrainte que } \\Phi w \\succeq e,\n",
    "    \\tag{P}\n",
    "\\end{equation*}\n",
    "où \n",
    "\n",
    "- $e:=(1,\\dots,1)^\\top \\in \\mathbb{R}^m$ \n",
    "- $P \\in \\mathcal{M}_{n+1}(\\mathbb{R})$ est la matrice de projection sur $F = \\{ w \\in \\mathbb{R}^{n+1} \\ | \\ w_{n+1}=0\\}$. Autrement dit $P$ projette sur les $n$ premières coordonnées, c-à-d $P= {\\rm{diag}}(1, \\dots, 1, 0)$.\n",
    "- $\\Phi \\in \\mathcal{M}_{m,n+1}(\\mathbb{R})$ est la matrice définie par\n",
    "\n",
    "\\begin{equation*}\n",
    "    \\Phi :=\n",
    "    \\begin{pmatrix}\n",
    "        y_1 x_1^\\top & y_1 \\\\\n",
    "        \\vdots & \\vdots \\\\\n",
    "        y_i x_i^\\top & y_i \\\\\n",
    "        \\vdots & \\vdots \\\\\n",
    "        y_m x_m^\\top & y_m\n",
    "    \\end{pmatrix}.\n",
    "\\end{equation*}\n",
    "\n",
    "- la solution $w \\in \\mathbb{R}^{n+1}$ s'écrit comme un couple $w=(a,b) \\in \\mathbb{R}^n \\times \\mathbb{R}$ qui va nous définir un hyperplan séparateur $\\{x \\in \\mathbb{R}^n \\ | \\ \\langle a,x \\rangle +b = 0 \\}$."
   ]
  },
  {
   "cell_type": "markdown",
   "metadata": {
    "tags": []
   },
   "source": [
    "# II. Résolution du problème : phase d'entraînement\n",
    "\n",
    "Dans cette partie, nous allons résoudre le problème (P) de trois manières différentes, dans les sections A,B et C.\n",
    "Ces trois sections sont de difficulté variable, mais indépendantes. Ceci étant dit, il est attendu que vous fassiez les trois."
   ]
  },
  {
   "cell_type": "markdown",
   "metadata": {},
   "source": [
    "**0)** Définir `e`, le vecteur $e:=(1,\\dots,1)^\\top \\in \\mathbb{R}^m$, ainsi que `Phi`, la matrice définie dans la section précédente. On rappelle que cette matrice ne dépend que de `X` et `Y`.\n",
    "\n",
    "On définira également `infini`, le vecteur $(+\\infty, \\dots, +\\infty) \\in \\mathbb{R}^m$, sachant que la quantité $+\\infty$ s'obtient avec `np.inf`.\n",
    "\n",
    "Faites bien attention, les objets définis ici vont vous servir tout au long du devoir. Il serait bête de faire une erreur à ce niveau."
   ]
  },
  {
   "cell_type": "code",
   "execution_count": 526,
   "metadata": {},
   "outputs": [
    {
     "data": {
      "text/plain": [
       "array([1., 1., 1., 1., 1., 1., 1., 1., 1., 1., 1., 1., 1., 1., 1., 1., 1.,\n",
       "       1., 1., 1., 1., 1., 1., 1., 1., 1., 1., 1., 1., 1., 1., 1., 1., 1.,\n",
       "       1., 1., 1., 1., 1., 1., 1., 1., 1., 1., 1., 1., 1., 1., 1., 1., 1.,\n",
       "       1., 1., 1., 1., 1., 1., 1., 1., 1., 1., 1., 1., 1., 1., 1., 1., 1.,\n",
       "       1., 1., 1., 1., 1., 1., 1., 1., 1., 1., 1., 1., 1., 1., 1., 1., 1.,\n",
       "       1., 1., 1., 1., 1., 1., 1., 1., 1., 1., 1., 1., 1., 1., 1., 1., 1.,\n",
       "       1., 1., 1., 1., 1., 1., 1., 1., 1., 1., 1., 1., 1., 1., 1., 1., 1.,\n",
       "       1., 1., 1., 1., 1., 1., 1., 1., 1., 1., 1., 1., 1., 1., 1., 1., 1.,\n",
       "       1., 1., 1., 1., 1., 1., 1., 1., 1., 1., 1., 1., 1., 1., 1., 1., 1.,\n",
       "       1., 1., 1., 1., 1., 1., 1., 1., 1., 1., 1., 1., 1., 1., 1., 1., 1.,\n",
       "       1., 1., 1., 1., 1., 1., 1., 1., 1., 1., 1., 1., 1., 1., 1., 1., 1.,\n",
       "       1., 1., 1., 1., 1., 1., 1., 1., 1., 1., 1., 1., 1.])"
      ]
     },
     "execution_count": 526,
     "metadata": {},
     "output_type": "execute_result"
    }
   ],
   "source": [
    "#e = np.ones((1,m))\n",
    "e = np.ones(m)\n",
    "e\n"
   ]
  },
  {
   "cell_type": "code",
   "execution_count": 527,
   "metadata": {},
   "outputs": [
    {
     "data": {
      "text/plain": [
       "array([[ 1.83995321,  3.16549508,  1.        ],\n",
       "       [ 4.44896357,  3.7733222 ,  1.        ],\n",
       "       [ 3.72419014,  2.83204684, -1.        ],\n",
       "       [ 2.22337916,  3.39388655, -1.        ],\n",
       "       [ 2.90241529,  4.52732556, -1.        ],\n",
       "       [ 4.46172086,  3.68036969,  1.        ],\n",
       "       [ 2.34094678,  3.50572327, -1.        ],\n",
       "       [ 3.32532374,  2.52790631,  1.        ],\n",
       "       [ 1.32588499,  3.67939916,  1.        ],\n",
       "       [ 2.63104184,  2.68492507,  1.        ],\n",
       "       [ 4.73671479,  3.70219184,  1.        ],\n",
       "       [ 2.00167142,  4.69630237, -1.        ],\n",
       "       [ 2.41583824,  2.90031676, -1.        ],\n",
       "       [ 2.30398025,  2.15072989, -1.        ],\n",
       "       [ 4.02792762,  3.21870283,  1.        ],\n",
       "       [ 2.22061336,  2.93672165, -1.        ],\n",
       "       [ 3.86221107,  1.94491626, -1.        ],\n",
       "       [ 1.64827595,  3.34817347,  1.        ],\n",
       "       [ 3.71920067,  3.24018383,  1.        ],\n",
       "       [ 0.55870153,  3.74298392, -1.        ],\n",
       "       [ 1.12316207,  2.59239261,  1.        ],\n",
       "       [ 3.49123175,  1.71741303,  1.        ],\n",
       "       [ 3.63486613,  1.22442004, -1.        ],\n",
       "       [ 4.15725269,  1.76715748, -1.        ],\n",
       "       [ 3.43871172,  3.31052718, -1.        ],\n",
       "       [ 3.04750838,  2.07103755,  1.        ],\n",
       "       [ 3.31989247,  4.26650481, -1.        ],\n",
       "       [ 3.7954307 ,  3.94702579, -1.        ],\n",
       "       [ 4.61964615,  4.10620165,  1.        ],\n",
       "       [ 3.44135971,  2.78018348, -1.        ],\n",
       "       [ 2.69756591,  2.35971114, -1.        ],\n",
       "       [ 2.80658611,  2.89547369,  1.        ],\n",
       "       [ 3.93963332,  2.90069553, -1.        ],\n",
       "       [ 3.3605666 ,  3.276474  ,  1.        ],\n",
       "       [ 2.02541646,  2.57970159,  1.        ],\n",
       "       [ 2.74511672,  3.68602704,  1.        ],\n",
       "       [ 2.62870229,  1.12469994, -1.        ],\n",
       "       [ 4.02617601,  2.24447159, -1.        ],\n",
       "       [ 2.23586479,  4.01206703, -1.        ],\n",
       "       [ 4.58150188,  1.72693126, -1.        ],\n",
       "       [ 3.53075383,  1.78866791, -1.        ],\n",
       "       [ 1.63444918,  4.43783424,  1.        ],\n",
       "       [ 1.17360899,  2.34199284,  1.        ],\n",
       "       [ 2.82244674,  3.30448597, -1.        ],\n",
       "       [ 1.81661899,  3.1906906 ,  1.        ],\n",
       "       [ 2.63267519,  4.26233487, -1.        ],\n",
       "       [ 0.91117472,  3.31820789,  1.        ],\n",
       "       [ 1.72074923,  2.01130033, -1.        ],\n",
       "       [ 2.43736335,  3.63782557,  1.        ],\n",
       "       [ 4.48432479,  1.844683  ,  1.        ],\n",
       "       [ 2.35411727,  2.71071779,  1.        ],\n",
       "       [ 2.98890994,  2.96226675,  1.        ],\n",
       "       [ 1.82969194,  4.27560793,  1.        ],\n",
       "       [ 1.95734054,  3.9017595 , -1.        ],\n",
       "       [ 1.74722233,  2.61099725,  1.        ],\n",
       "       [ 2.18558536,  4.75177821,  1.        ],\n",
       "       [ 3.20295192,  3.15962862,  1.        ],\n",
       "       [ 4.03375694,  4.35293891,  1.        ],\n",
       "       [ 2.62832276,  3.59187102, -1.        ],\n",
       "       [ 4.08312968,  1.18683023,  1.        ],\n",
       "       [ 3.23526781,  0.77554953, -1.        ],\n",
       "       [ 2.15828024,  1.60221995,  1.        ],\n",
       "       [ 2.75599322,  2.81444007, -1.        ],\n",
       "       [ 2.42356983,  3.31774633, -1.        ],\n",
       "       [ 4.08256313,  3.62541943, -1.        ],\n",
       "       [ 2.21971177,  3.0525467 ,  1.        ],\n",
       "       [ 2.47976444,  4.85178189, -1.        ],\n",
       "       [ 3.84701062,  4.01676158, -1.        ],\n",
       "       [ 3.08799921,  3.33836134,  1.        ],\n",
       "       [ 4.31858615,  2.71244957, -1.        ],\n",
       "       [ 3.53565822,  0.79145888,  1.        ],\n",
       "       [ 1.10949   ,  4.25588135, -1.        ],\n",
       "       [ 3.08149597,  3.71319729,  1.        ],\n",
       "       [ 3.88670506,  1.82941211, -1.        ],\n",
       "       [ 2.8512298 ,  4.4254254 ,  1.        ],\n",
       "       [ 4.01377838,  3.72443287, -1.        ],\n",
       "       [ 5.01588677,  2.53741671,  1.        ],\n",
       "       [ 1.97332741,  1.27263958, -1.        ],\n",
       "       [ 2.81679045,  2.65808844, -1.        ],\n",
       "       [ 2.88227034,  4.23998263,  1.        ],\n",
       "       [ 3.47390522,  3.34342048,  1.        ],\n",
       "       [ 3.22084939,  2.78658303,  1.        ],\n",
       "       [ 2.48241792,  3.38461116, -1.        ],\n",
       "       [ 1.91620519,  1.48124824, -1.        ],\n",
       "       [ 1.81524266,  3.56779635,  1.        ],\n",
       "       [ 3.57732332,  2.17254896, -1.        ],\n",
       "       [ 0.9004794 ,  4.70933539,  1.        ],\n",
       "       [ 3.58022884,  4.63362079,  1.        ],\n",
       "       [ 3.55816141,  2.72228747,  1.        ],\n",
       "       [ 0.32013731,  2.77183498,  1.        ],\n",
       "       [ 4.80296057,  2.2256389 , -1.        ],\n",
       "       [ 2.71035383,  2.16167647,  1.        ],\n",
       "       [ 2.79311562,  3.62446473,  1.        ],\n",
       "       [ 2.88087184,  1.84207725, -1.        ],\n",
       "       [ 2.16557315,  2.71400522, -1.        ],\n",
       "       [ 4.35740015,  2.30086624, -1.        ],\n",
       "       [ 3.71862805,  2.74411922, -1.        ],\n",
       "       [ 1.99999416,  4.27006846, -1.        ],\n",
       "       [ 2.97240189,  2.7913789 , -1.        ],\n",
       "       [ 2.46189357,  1.88752606,  1.        ],\n",
       "       [ 3.30671787,  2.15099428,  1.        ],\n",
       "       [ 2.39653931,  2.21210405, -1.        ],\n",
       "       [ 4.39302568,  4.03292638, -1.        ],\n",
       "       [ 3.48849995,  3.35262406, -1.        ],\n",
       "       [ 3.15831318,  2.56081439,  1.        ],\n",
       "       [ 2.35674323,  2.48749933,  1.        ],\n",
       "       [ 4.35278353,  5.02222753,  1.        ],\n",
       "       [ 4.29320767,  4.51029143, -1.        ],\n",
       "       [ 4.96892757,  3.74754881,  1.        ],\n",
       "       [ 4.32142142,  3.68892956,  1.        ],\n",
       "       [ 2.90574722,  2.5584238 , -1.        ],\n",
       "       [ 2.96094122,  2.54290183, -1.        ],\n",
       "       [ 4.07128192,  3.7000415 , -1.        ],\n",
       "       [ 2.93542089,  0.90427997, -1.        ],\n",
       "       [ 2.56150436,  3.00792661,  1.        ],\n",
       "       [ 5.14767429,  3.49194083, -1.        ],\n",
       "       [ 1.33943233,  1.4787891 , -1.        ],\n",
       "       [ 3.20012073,  2.3371293 , -1.        ],\n",
       "       [ 2.60909625,  3.8378354 ,  1.        ],\n",
       "       [ 2.76118151,  2.72289128,  1.        ],\n",
       "       [ 4.01667601,  3.05256265,  1.        ],\n",
       "       [ 2.63067513,  5.2562169 ,  1.        ],\n",
       "       [ 2.78784922,  1.95002663,  1.        ],\n",
       "       [ 4.15809608,  3.99182587, -1.        ],\n",
       "       [ 3.33116834,  2.53378568,  1.        ],\n",
       "       [ 1.80559664,  3.25888967,  1.        ],\n",
       "       [ 3.22128246,  3.10740807,  1.        ],\n",
       "       [ 3.51817489,  2.84596747, -1.        ],\n",
       "       [ 2.37119074,  3.40451493,  1.        ],\n",
       "       [ 1.26780774,  2.62002698, -1.        ],\n",
       "       [ 3.78611239,  3.58368412, -1.        ],\n",
       "       [ 4.38189506,  2.93821537,  1.        ],\n",
       "       [ 2.42742351,  4.24320327,  1.        ],\n",
       "       [ 2.47860047,  0.6789485 , -1.        ],\n",
       "       [ 2.4927423 ,  2.97846872,  1.        ],\n",
       "       [ 2.94577798,  1.74961092, -1.        ],\n",
       "       [ 3.11619642,  3.01475683, -1.        ],\n",
       "       [ 1.79451539,  5.63169802, -1.        ],\n",
       "       [ 2.71782741,  5.63202246, -1.        ],\n",
       "       [ 4.10514779,  1.47705998, -1.        ],\n",
       "       [ 2.23761185,  3.35031206, -1.        ],\n",
       "       [ 3.47723537,  3.37401649,  1.        ],\n",
       "       [ 2.07152804,  1.98369784, -1.        ],\n",
       "       [ 2.46193807,  3.96247008, -1.        ],\n",
       "       [ 1.87900519,  3.41216136, -1.        ],\n",
       "       [ 3.2946315 ,  3.16035128, -1.        ],\n",
       "       [ 1.98017234,  3.07350922, -1.        ],\n",
       "       [ 2.40527775,  2.20202135,  1.        ],\n",
       "       [ 3.51623461,  3.03871297,  1.        ],\n",
       "       [ 4.5891185 ,  1.04752159,  1.        ],\n",
       "       [ 4.98194694,  1.43698771,  1.        ],\n",
       "       [ 0.5128858 ,  4.02621184, -1.        ],\n",
       "       [ 2.34192408,  3.88183439, -1.        ],\n",
       "       [ 3.22060101,  2.49220713,  1.        ],\n",
       "       [ 3.84096205,  2.24226986,  1.        ],\n",
       "       [ 2.05300057,  2.03373419, -1.        ],\n",
       "       [ 1.97575924,  3.51747975,  1.        ],\n",
       "       [ 3.98678087,  4.5621527 , -1.        ],\n",
       "       [ 4.17286835,  3.04206648, -1.        ],\n",
       "       [ 2.51490883,  2.76126653,  1.        ],\n",
       "       [ 2.10934139,  3.06339658, -1.        ],\n",
       "       [ 2.15103066,  1.86817369,  1.        ],\n",
       "       [ 4.47711353,  3.55508065, -1.        ],\n",
       "       [ 3.70796078,  2.01112573,  1.        ],\n",
       "       [ 3.74183173,  5.56381052, -1.        ],\n",
       "       [ 3.35320394,  1.09157395, -1.        ],\n",
       "       [ 2.8349075 ,  3.22974386,  1.        ],\n",
       "       [ 3.37596035,  3.40374393, -1.        ],\n",
       "       [ 3.10161166,  2.83467371, -1.        ],\n",
       "       [ 3.08080546,  1.57266705,  1.        ],\n",
       "       [ 2.1659558 ,  4.92790281, -1.        ],\n",
       "       [ 2.99143045,  3.85407066, -1.        ],\n",
       "       [ 1.90842788,  2.78541276, -1.        ],\n",
       "       [ 4.67973525,  3.47873614,  1.        ],\n",
       "       [ 4.18485262,  1.18745561,  1.        ],\n",
       "       [ 3.71368695,  2.96813258, -1.        ],\n",
       "       [ 2.13130233,  3.23780485,  1.        ],\n",
       "       [ 2.25600556,  3.76696186,  1.        ],\n",
       "       [ 3.68931956,  1.0627786 , -1.        ],\n",
       "       [ 4.66668026,  2.28689681,  1.        ],\n",
       "       [ 2.2407993 ,  4.98010961, -1.        ],\n",
       "       [ 3.4555055 ,  2.16031052, -1.        ],\n",
       "       [ 4.42972996,  1.6989223 ,  1.        ],\n",
       "       [ 4.43894781,  5.04035292,  1.        ],\n",
       "       [ 3.36534063,  2.2863377 , -1.        ],\n",
       "       [ 2.04178557,  4.68751942, -1.        ],\n",
       "       [ 1.04775049,  1.8830076 ,  1.        ],\n",
       "       [ 3.60904486,  1.13362026, -1.        ],\n",
       "       [ 0.02184121,  4.20242104, -1.        ],\n",
       "       [ 3.64314473,  5.19387482,  1.        ],\n",
       "       [ 3.54997008,  2.51334871,  1.        ],\n",
       "       [ 2.5478173 ,  2.82591952, -1.        ],\n",
       "       [ 3.79843832,  1.26005281,  1.        ],\n",
       "       [ 3.06529656,  3.17790571, -1.        ],\n",
       "       [ 2.20692455,  1.76074116,  1.        ],\n",
       "       [ 2.27633375,  1.83629108,  1.        ],\n",
       "       [ 3.14532329,  2.47562603, -1.        ],\n",
       "       [ 2.50356937,  2.26291299,  1.        ],\n",
       "       [ 4.15039286,  3.69739713, -1.        ],\n",
       "       [ 3.04610048,  3.62725006, -1.        ]])"
      ]
     },
     "execution_count": 527,
     "metadata": {},
     "output_type": "execute_result"
    }
   ],
   "source": [
    "# X est une matrice de taille m x n contenant les données d'entraînement\n",
    "# Y est un vecteur de taille m contenant les étiquettes de classe\n",
    "Phi = np.hstack((Y.reshape((-1, 1)) * X, Y.reshape((-1, 1))))\n",
    "Phi"
   ]
  },
  {
   "cell_type": "code",
   "execution_count": 528,
   "metadata": {},
   "outputs": [
    {
     "data": {
      "text/plain": [
       "array([inf, inf, inf, inf, inf, inf, inf, inf, inf, inf, inf, inf, inf,\n",
       "       inf, inf, inf, inf, inf, inf, inf, inf, inf, inf, inf, inf, inf,\n",
       "       inf, inf, inf, inf, inf, inf, inf, inf, inf, inf, inf, inf, inf,\n",
       "       inf, inf, inf, inf, inf, inf, inf, inf, inf, inf, inf, inf, inf,\n",
       "       inf, inf, inf, inf, inf, inf, inf, inf, inf, inf, inf, inf, inf,\n",
       "       inf, inf, inf, inf, inf, inf, inf, inf, inf, inf, inf, inf, inf,\n",
       "       inf, inf, inf, inf, inf, inf, inf, inf, inf, inf, inf, inf, inf,\n",
       "       inf, inf, inf, inf, inf, inf, inf, inf, inf, inf, inf, inf, inf,\n",
       "       inf, inf, inf, inf, inf, inf, inf, inf, inf, inf, inf, inf, inf,\n",
       "       inf, inf, inf, inf, inf, inf, inf, inf, inf, inf, inf, inf, inf,\n",
       "       inf, inf, inf, inf, inf, inf, inf, inf, inf, inf, inf, inf, inf,\n",
       "       inf, inf, inf, inf, inf, inf, inf, inf, inf, inf, inf, inf, inf,\n",
       "       inf, inf, inf, inf, inf, inf, inf, inf, inf, inf, inf, inf, inf,\n",
       "       inf, inf, inf, inf, inf, inf, inf, inf, inf, inf, inf, inf, inf,\n",
       "       inf, inf, inf, inf, inf, inf, inf, inf, inf, inf, inf, inf, inf,\n",
       "       inf, inf, inf, inf, inf])"
      ]
     },
     "execution_count": 528,
     "metadata": {},
     "output_type": "execute_result"
    }
   ],
   "source": [
    "#infini = np.full((1, m), np.inf)\n",
    "infini = np.array([np.inf]*m)\n",
    "infini"
   ]
  },
  {
   "cell_type": "code",
   "execution_count": null,
   "metadata": {},
   "outputs": [],
   "source": []
  },
  {
   "cell_type": "markdown",
   "metadata": {
    "tags": []
   },
   "source": [
    "## A. Résolution via un solver Python\n",
    "\n",
    "Ici nous allons simplement donner le problème à Python, qui dispose de certaines routines pour résoudre les problèmes d'optimisation. Toute la difficulté consiste en la mise en forme du problème dans une syntaxe que Python peut conmprendre."
   ]
  },
  {
   "cell_type": "markdown",
   "metadata": {},
   "source": [
    "**1)** Définir une fonction `objectif` qui prend en entrée un vecteur $w=(a,b) \\in \\mathbb{R}^n \\times \\mathbb{R}$ et qui renvoie $\\Vert a \\Vert^2$."
   ]
  },
  {
   "cell_type": "code",
   "execution_count": 529,
   "metadata": {},
   "outputs": [],
   "source": [
    "# en supposant que le vecteur 𝑤 est un tableau numpy de taille (n+1,) où la dernière composante correspond à 𝑏\n",
    "def objectif(w): \n",
    "    a = w[:-1] # extraire les coefficients a1, a2, ..., an\n",
    "    return np.linalg.norm(a)**2 # retourner la norme au carré de a"
   ]
  },
  {
   "cell_type": "code",
   "execution_count": 530,
   "metadata": {},
   "outputs": [
    {
     "name": "stdout",
     "output_type": "stream",
     "text": [
      "14.0\n"
     ]
    }
   ],
   "source": [
    "w = np.array([1, 2, 3, 4])\n",
    "\n",
    "# Tester la fonction objectif\n",
    "print(objectif(w)) # devrait afficher 14\n"
   ]
  },
  {
   "cell_type": "markdown",
   "metadata": {},
   "source": [
    "**2)** On doit résoudre un problème d'optimisation sous contrainte. Pour cela, on va faire appel à la bibliothèque `scipy.optimize` qui peut faire cela pour nous. "
   ]
  },
  {
   "cell_type": "code",
   "execution_count": 531,
   "metadata": {},
   "outputs": [],
   "source": [
    "from scipy.optimize import LinearConstraint, minimize"
   ]
  },
  {
   "cell_type": "markdown",
   "metadata": {},
   "source": [
    "Tout d'abord on doit définir la contrainte $\\Phi w \\succeq e$. Il faut pour cela utiliser la fonction `LinearConstraint` qui permet de définir une contrainte de la forme\n",
    "$$\n",
    "\\{ w \\in \\mathbb{R}^d \\ | \\ a \\preceq \\Phi w \\preceq b \\}\n",
    "$$\n",
    "avec la commande `LinearConstraint(Phi, a, b)` (voir la [documentation](https://docs.scipy.org/doc/scipy/reference/generated/scipy.optimize.LinearConstraint.html#scipy.optimize.LinearConstraint) pour plus de détails). A vous de compléter la commande suivante, avec les objets définis à la question **1)**."
   ]
  },
  {
   "cell_type": "code",
   "execution_count": 532,
   "metadata": {},
   "outputs": [],
   "source": [
    "from scipy.optimize import LinearConstraint\n",
    "\n",
    "a = e\n",
    "b = infini\n",
    "LinearConstraint = LinearConstraint(Phi,a,b)\n"
   ]
  },
  {
   "cell_type": "markdown",
   "metadata": {},
   "source": [
    "**3)** On peut maintenant obtenir la solution de notre problème, en faisant appel à `scipy.optimize.minimize` (voir la [documentation](https://docs.scipy.org/doc/scipy/reference/generated/scipy.optimize.minimize.html) pour plus de détails)."
   ]
  },
  {
   "cell_type": "code",
   "execution_count": 533,
   "metadata": {},
   "outputs": [
    {
     "data": {
      "text/plain": [
       "array([ 0.2808735 ,  0.39547412, -0.03896613])"
      ]
     },
     "execution_count": 533,
     "metadata": {},
     "output_type": "execute_result"
    }
   ],
   "source": [
    "w_sol_scipy = minimize(                       # minimiser\n",
    "                    fun = objectif,           # la fonction 'objectif'\n",
    "                    constraints = LinearConstraint, # sous la contrainte 'contrainte'\n",
    "                    x0 = np.random.randn(3),  # en partant d'un point initial\n",
    "                    ).x                       # et donne-moi le vecteur solution\n",
    "w_sol_scipy"
   ]
  },
  {
   "cell_type": "markdown",
   "metadata": {},
   "source": [
    "**4)** Reprendre le code de la partie **I.1**, pour afficher les nuages de points ainsi que la droite définie par le paramètre $w_{sol-scipy} \\in \\mathbb{R}^3$ que vous venez d'obtenir. Êtes-vous satisfait$\\cdot$e de la solution obtenue?"
   ]
  },
  {
   "cell_type": "code",
   "execution_count": 534,
   "metadata": {},
   "outputs": [
    {
     "data": {
      "image/png": "[encoded data removed]",
      "text/plain": [
       "<Figure size 640x480 with 1 Axes>"
      ]
     },
     "metadata": {},
     "output_type": "display_data"
    }
   ],
   "source": [
    "_=plt.scatter(X[Y == 1][:, 0], X[Y == 1][:, 1], c='r', label='Classe 1')\n",
    "_=plt.scatter(X[Y == -1][:, 0], X[Y == -1][:, 1], c='b', label='Classe -1')\n",
    "_=plt.legend()\n",
    "\n",
    "# Affichage de la droite définie par w_sol_scipy\n",
    "trace_droite(w_sol_scipy)\n",
    "\n",
    "# Affichage du graphe\n",
    "plt.xlabel('Axe x')\n",
    "plt.ylabel('Axe y')\n",
    "plt.title('Nuages de points et droite définie par w_sol_scipy')\n",
    "plt.grid(True)\n",
    "plt.show()"
   ]
  },
  {
   "cell_type": "markdown",
   "metadata": {},
   "source": [
    " je  suis  satisfait de la solution obtenue car la droite séparatrice obtenue  sépare distinctement les 2 ensembles de points."
   ]
  },
  {
   "cell_type": "markdown",
   "metadata": {
    "tags": []
   },
   "source": [
    "## B. Résolution via le problème dual et la méthode du gradient projeté"
   ]
  },
  {
   "cell_type": "markdown",
   "metadata": {},
   "source": [
    "Ici nous allons nous intérésser à (D), le problème dual de (P) au sens de Fenchel-Rockafellar. Dans un premier temps nous allons calculer ce problème dual. Dans un second temps, nous allons voir qu'il a une structure plus simple, le rendant facile à résoudre.\n",
    "Dans un troisième temps, nous allons résoudre (D) avec la méthode du gradient projeté, puis retrouver une solution du problème primal (P)."
   ]
  },
  {
   "cell_type": "markdown",
   "metadata": {
    "tags": []
   },
   "source": [
    "### 1. Calcul du problème dual"
   ]
  },
  {
   "cell_type": "markdown",
   "metadata": {},
   "source": [
    "**1)** 📝 Montrer que le problème (P) peut s'écrire sous la forme \n",
    "\\begin{equation*}\n",
    "    \\min\\limits_{w \\in \\mathbb{R}^{n+1}} \\ f(w) + g(\\Phi w), \n",
    "    \\tag{P}\n",
    "\\end{equation*}\n",
    "où\n",
    "- $f$ est une fonction quadratique semi définie positive,\n",
    "- $g = \\delta_C$ est la fonction indicatrice de $C$, un ensemble convexe fermé non vide."
   ]
  },
  {
   "cell_type": "markdown",
   "metadata": {},
   "source": [
    "**2)** 📝 D'après la dualité de Fenchel-Rockafellar, le problème dual de (P) consiste à résoudre\n",
    "\\begin{equation*}\n",
    "    \\min\\limits_{u \\in \\mathbb{R}^m} \\ f^* (-\\Phi^\\top u) + g^* (u), \n",
    "    \\tag{D}\n",
    "\\end{equation*}\n",
    "Vous devrez:\n",
    "\n",
    "- Calculer la conjuguée de Fenchel $f^*$. Pour cela vous pourrez utiliser un résultat de la feuille de TD sur la conjuguée.\n",
    "- Calculer la conjuguée de Fenchel $g^*$. Vous utiliserez des résultats du cours  pour montrer que \n",
    "\\begin{equation*}\n",
    "    g^*(u) = \\delta_K(u) - \\langle e, u \\rangle,\n",
    "\\end{equation*}\n",
    "où $K$ est un cône convexe fermé (très sympatique) non vide."
   ]
  },
  {
   "cell_type": "markdown",
   "metadata": {},
   "source": [
    "**3)** 📝 Conclure que le problème dual s'écrit\n",
    "\n",
    "\\begin{equation*}\n",
    "    \\min\\limits_{u \\in \\mathbb{R}^M} \\ h(u), \n",
    "    \\quad \n",
    "    \\text{ sous la contrainte que } u \\in K \\text{ et } \\langle y,u \\rangle =0,\n",
    "    \\tag{D}\n",
    "\\end{equation*}\n",
    "où $h$ est une fonction convexe quadratique."
   ]
  },
  {
   "cell_type": "markdown",
   "metadata": {
    "tags": []
   },
   "source": [
    "### 2. Définition de la projection"
   ]
  },
  {
   "cell_type": "markdown",
   "metadata": {},
   "source": [
    "\n",
    "\n",
    "Ici on s'intéresse à la projection sur la contrainte duale\n",
    "$$D:= \\{ u \\in \\mathbb{R}^M \\ | \\ u \\in K \\text{ et } \\langle y,u \\rangle =0\\},$$\n",
    "où $K$ est le cône simple que vous avez obtenu à la section précédente."
   ]
  },
  {
   "cell_type": "markdown",
   "metadata": {},
   "source": [
    "**1)** Définir une fonction `proj_K` qui prend en entrée un vecteur `u` et renvoie en sortie la projection de $u$ sur $K$."
   ]
  },
  {
   "cell_type": "code",
   "execution_count": 535,
   "metadata": {},
   "outputs": [],
   "source": [
    "import numpy as np\n",
    "\n",
    "def proj_K(u):\n",
    "    # Vérifier si u est déjà dans K (orthant négatif)\n",
    "    if np.all(u <= 0):\n",
    "        return u\n",
    "\n",
    "    # Projection sur le cône K (orthant négatif)\n",
    "    u_projected = np.maximum(u, 0)\n",
    "\n",
    "    return u_projected\n"
   ]
  },
  {
   "cell_type": "code",
   "execution_count": 536,
   "metadata": {},
   "outputs": [
    {
     "name": "stdout",
     "output_type": "stream",
     "text": [
      "[0 3 0 4 0]\n"
     ]
    }
   ],
   "source": [
    "u = np.array([-2, 3, -1, 4, -5])\n",
    "print(proj_K(u))"
   ]
  },
  {
   "cell_type": "markdown",
   "metadata": {},
   "source": [
    "**2)** Définir une fonction `proj_H` qui prend en entrée un vecteur `u` et le vecteur `y` et renvoie en sortie la projection sur l'hyperplan défini par\n",
    "$$H := \\{ u \\in \\mathbb{R}^M \\ | \\ \\langle y, u \\rangle =0 \\}.$$\n",
    "Pour ce faire, vous chercherez (à la main ou sur internet ou dans le cours qui sait) comment calculer la projection sur un Hyperplan."
   ]
  },
  {
   "cell_type": "code",
   "execution_count": 537,
   "metadata": {},
   "outputs": [],
   "source": [
    "import numpy as np\n",
    "\n",
    "def proj_H(u, y):\n",
    "    # Projection orthogonale sur l'hyperplan H\n",
    "    u_projected = u - np.dot(u, y) * y / np.dot(y, y)\n",
    "\n",
    "    return u_projected\n",
    "\n"
   ]
  },
  {
   "cell_type": "code",
   "execution_count": 538,
   "metadata": {},
   "outputs": [
    {
     "name": "stdout",
     "output_type": "stream",
     "text": [
      "[-0.33333333  2.66666667 -2.33333333]\n",
      "[0. 0. 0.]\n",
      "[ 3.  4. -7.]\n"
     ]
    }
   ],
   "source": [
    "u1 = np.array([-1, 2, -3])\n",
    "u2 = np.array([0, 0, 0])\n",
    "u3 = np.array([4, 5, -6])\n",
    "y = np.array([1, 1, 1])\n",
    "\n",
    "projection_1 = proj_H(u1, y)\n",
    "projection_2 = proj_H(u2, y)\n",
    "projection_3 = proj_H(u3, y)\n",
    "print(projection_1)\n",
    "print(projection_2)\n",
    "print(projection_3)\n"
   ]
  },
  {
   "cell_type": "markdown",
   "metadata": {},
   "source": [
    "**3)** Définir une fonction `proj_D_approx` qui \n",
    "\n",
    "- prend en entrée un vecteur `u` et le vecteur `y`\n",
    "- renvoie en sortie une approximation de la projection de $u$ sur $D = K \\cap H$\n",
    "\n",
    "Pour calculer cette projection approximative, vous allez utiliser la méthode de **projection de Dijkstra** sur une dizaine d'itérations.\n",
    "Elle se définit via des projections alternées sur $H$ et $K$, comme suit:\n",
    "\n",
    "| Projection de Dijkstra |\n",
    "|-|\n",
    "| On veut projeter $u$ sur $K\\cap H$ |\n",
    "| On initialise $x_0=u$, et $h_0=p_0=q_0=0$, puis pour $k \\geq 0$: | \n",
    "| \\begin{eqnarray*} h_{k+1} & = & {\\rm{proj}}_H(x_k+p_k) \\\\ p_{k+1} &=& x_k + p_k - h_{k+1} \\\\ x_{k+1} &=& {\\rm{proj}}_K( h_{k+1} + q_k) \\\\ q_{k+1} &=& h_{k+1} + q_k - x_{k+1} \\end{eqnarray*} |\n",
    "| **Théorème:** $x_k \\to {\\rm{proj}}_{K\\cap H}(u)$ lorsque $k \\to +\\infty$ |"
   ]
  },
  {
   "cell_type": "code",
   "execution_count": 539,
   "metadata": {},
   "outputs": [
    {
     "name": "stdout",
     "output_type": "stream",
     "text": [
      "Projection approximative de u1 sur D : [0.         0.00013548 0.        ]\n",
      "Projection approximative de u2 sur D : [0. 0. 0.]\n",
      "Projection approximative de u3 sur D : [-1.66666667 -0.66666667 -4.66666667]\n"
     ]
    }
   ],
   "source": [
    "\n",
    "def proj_D_approx(u, y, num_iterations=10):\n",
    "    x = u\n",
    "    h = p = q = 0\n",
    "\n",
    "    for k in range(num_iterations):\n",
    "        h_next = proj_H(x + p, y)\n",
    "        x_next = proj_K(h_next + q)\n",
    "        q = h_next + q - x_next\n",
    "        p = x_next - h_next\n",
    "        x = x_next\n",
    "\n",
    "    return x\n",
    "\n",
    "u1 = np.array([-1, 2, -3])\n",
    "u2 = np.array([0, 0, 0])\n",
    "u3 = np.array([4, 5, -6])\n",
    "y = np.array([1, 1, 1])\n",
    "\n",
    "projection_1 = proj_D_approx(u1, y)\n",
    "projection_2 = proj_D_approx(u2, y)\n",
    "projection_3 = proj_D_approx(u3, y)\n",
    "\n",
    "\n",
    "print(\"Projection approximative de u1 sur D :\", projection_1)\n",
    "print(\"Projection approximative de u2 sur D :\", projection_2)\n",
    "print(\"Projection approximative de u3 sur D :\", projection_3)\n"
   ]
  },
  {
   "cell_type": "markdown",
   "metadata": {},
   "source": [
    "**4)** On va ici implémenter une alternative à la méthode de projection approchée de la question précédente avec la **projection de Kiwiel**. Cette dernière s'effectue avec la fonction `proj_kiwiel` (importée ci-dessous), qui:\n",
    "\n",
    "- projette un vecteur $u$ sur une intersection $K \\cap H$ \n",
    "   - où $H$ est un hyperplan $H = \\{ u \\in \\mathbb{R}^M \\ | \\ \\langle y, u \\rangle =0 \\}$\n",
    "   - où $K$ est un ensemble défini par $K = \\{ u \\in \\mathbb{R}^M \\ | \\ a \\preceq u \\preceq b \\}$\n",
    "     - ici les bornes $a, b \\in \\mathbb{R}^M$ peuvent prendre des valeurs $\\pm \\infty$\n",
    "- prend en entrée `proj_kiwiel(u, y, a, b)` où $u$ est le vecteur à projeter, $y$ le vecteur définissant l'hyperplan $H$, et $a,b$ sont les bornes (inférieures et supérieures) définissant $K$.\n",
    "- renvoie en sortie la projection de $u$ sur $K \\cap H$.\n",
    "\n",
    "Votre travail ici consiste à définir une fonction `proj_D` qui prend en entrée un vecteur `u`, le vecteur `y`, et renvoie la projection de $u$ sur $D$.\n",
    "Pour ce faire, vous définirez les bornes `a` et `b` qui définissent $K$, et vous appliquerez la projection de Kiwiel."
   ]
  },
  {
   "cell_type": "code",
   "execution_count": 540,
   "metadata": {},
   "outputs": [],
   "source": [
    "from kiwiel import proj_kiwiel"
   ]
  },
  {
   "cell_type": "code",
   "execution_count": 541,
   "metadata": {},
   "outputs": [],
   "source": [
    "\n",
    "def proj_D(u, y):\n",
    "    zero= np.zeros(len(u))\n",
    "    projection = proj_kiwiel(u, y, -np.inf, zero)  \n",
    "    \n",
    "    return projection\n"
   ]
  },
  {
   "cell_type": "code",
   "execution_count": null,
   "metadata": {},
   "outputs": [],
   "source": [
    "\n"
   ]
  },
  {
   "cell_type": "markdown",
   "metadata": {},
   "source": [
    "**5)** Prendre un vecteur $u \\in \\mathbb{R}^M$ quelconque, et comparer les projections `proj_D_approx` et `proj_D`. Vous regarderez notamment si le vecteur projeté vérifie bien les contraintes $K \\cap H$."
   ]
  },
  {
   "cell_type": "code",
   "execution_count": 542,
   "metadata": {},
   "outputs": [],
   "source": [
    "a1= -100\n",
    "a2= 100\n",
    "u= np.random.randint(a1,a2,m)"
   ]
  },
  {
   "cell_type": "code",
   "execution_count": null,
   "metadata": {},
   "outputs": [],
   "source": []
  },
  {
   "cell_type": "markdown",
   "metadata": {
    "tags": []
   },
   "source": [
    "### 3. Méthode du gradient projeté"
   ]
  },
  {
   "cell_type": "markdown",
   "metadata": {},
   "source": [
    "La méthode du gradient projeté permet de résoudre un problème de la forme \n",
    "$$ \\min f(x), x \\in C$$\n",
    "L'algorithme s'écrit \n",
    "\n",
    "| | | |\n",
    "|-|-|-|\n",
    "|| On choisit $x_0$ un vecteur de $\\mathbb{R}^N$ et $\\rho > 0$ un pas fixe. | \n",
    "|  | Pour $k\\geq 0$ : $\\qquad \\qquad \\, $   $x_{k+1}$  = ${\\rm{proj}}_C(x_k - \\rho \\nabla f(x_k))$  | \n",
    "\n",
    "L'algorithme est garanti de converger si $f$ est convexe, de classe $C^1$, avec un gradient $L$-Lipschitzien, et un pas $\\rho \\in ]0,2/L[$."
   ]
  },
  {
   "cell_type": "markdown",
   "metadata": {},
   "source": [
    "**1)** 📝 Vérifier que les hypothèses ci-dessus sont vérifiées pour le problème dual (D). En particulier, vous calculerez $\\nabla h$, et vous définirez sa constante de Lipschitz `L`."
   ]
  },
  {
   "cell_type": "code",
   "execution_count": null,
   "metadata": {},
   "outputs": [],
   "source": []
  },
  {
   "cell_type": "markdown",
   "metadata": {},
   "source": [
    "**2)** Définir une fonction `FB_dual` qui résoud le problème dual (D) en:\n",
    "\n",
    "- prenant en entrée la matrice `Phi`, le vecteur `y`, un pas `rho`, un nombre d'itérations `nb_iter`\n",
    "- résolvant le problème dual en appliquant la méthode du gradient projeté :\n",
    "  - en initialisant les itérés en $0 \\in \\mathbb{R}^m$\n",
    "  - avec un pas `rho`\n",
    "  - en réalisant la projection sur $D$ avec une fonction définie dans la section précédente (de votre choix)\n",
    "  - pendant un nombre d'itérations égal à `nb_iter`\n",
    "- retournant en sortie le dernier itéré calculé "
   ]
  },
  {
   "cell_type": "code",
   "execution_count": 543,
   "metadata": {},
   "outputs": [],
   "source": [
    "def FB_dual(Phi, y, rho, nb_iter):\n",
    "    \n",
    "    m, n = Phi.shape[0], Phi.shape[1] - 1\n",
    "    u = np.zeros(m)  \n",
    "    #e = np.ones(m)\n",
    "    \n",
    "    for _ in range(nb_iter):\n",
    "        gradient = Phi @ Phi.T @ u + np.ones(m)\n",
    "        #print(\"gradient\",gradient)\n",
    "        u -= rho * gradient  \n",
    "        u = proj_D_approx(u, y, 50)\n",
    "    \n",
    "    return u\n"
   ]
  },
  {
   "cell_type": "code",
   "execution_count": 544,
   "metadata": {},
   "outputs": [
    {
     "data": {
      "text/plain": [
       "0.00026401499803852294"
      ]
     },
     "execution_count": 544,
     "metadata": {},
     "output_type": "execute_result"
    }
   ],
   "source": [
    "product = np.dot(Phi, Phi.T)\n",
    "    \n",
    "    # Calcul de la norme Frobenius de la matrice produit\n",
    "norm = np.linalg.norm(product, ord='fro')\n",
    "    \n",
    "    # Calcul de rho\n",
    "rho = 1/ norm\n",
    "rho"
   ]
  },
  {
   "cell_type": "markdown",
   "metadata": {},
   "source": [
    "**3)** Trouver `u_sol_GPD` une solution approchée au problème dual (D)."
   ]
  },
  {
   "cell_type": "code",
   "execution_count": 545,
   "metadata": {},
   "outputs": [],
   "source": [
    "u_sol_GPD = FB_dual(Phi,Y,rho,5)"
   ]
  },
  {
   "cell_type": "code",
   "execution_count": 546,
   "metadata": {},
   "outputs": [
    {
     "data": {
      "text/plain": [
       "array([-0.0002784 , -0.00028061, -0.00025789, -0.00025732, -0.00025864,\n",
       "       -0.00028055, -0.00025749, -0.00027891, -0.00027845, -0.00027856,\n",
       "       -0.00028075, -0.00025817, -0.00025707, -0.00025642, -0.0002799 ,\n",
       "       -0.00025697, -0.00025731, -0.00027841, -0.00027971, -0.00025648,\n",
       "       -0.00027748, -0.0002784 , -0.0002566 , -0.00025737, -0.00025807,\n",
       "       -0.00027837, -0.00025872, -0.0002588 , -0.00025897, -0.00025767,\n",
       "       -0.00025685, -0.00027884, -0.00025809, -0.0002795 , -0.00027808,\n",
       "       -0.0002794 , -0.00025586, -0.00025765, -0.0002578 , -0.00025762,\n",
       "       -0.00025697, -0.00027924, -0.00027733, -0.00025765, -0.0002784 ,\n",
       "       -0.00025826, -0.0002779 , -0.00025593, -0.00027916, -0.00027916,\n",
       "       -0.0002784 , -0.00027901, -0.00027924, -0.00025753, -0.00027791,\n",
       "       -0.00027985, -0.00027931, -0.00028078, -0.00025774, -0.00027839,\n",
       "       -0.00025599, -0.00027742, -0.00025723, -0.0002574 , -0.00025874,\n",
       "       -0.00027857, -0.00025861, -0.00025888, -0.00027937, -0.0002582 ,\n",
       "       -0.00027772, -0.00025724, -0.00027965, -0.00025724, -0.00028004,\n",
       "       -0.00025877, -0.00028004, -0.00025553, -0.00025716, -0.00027992,\n",
       "       -0.00027963, -0.00027903, -0.00025749, -0.00025565, -0.00027869,\n",
       "       -0.00025729, -0.00027896, -0.00028069, -0.00027921, -0.00027708,\n",
       "       -0.00025815, -0.00027821, -0.00027939, -0.00025657, -0.00025676,\n",
       "       -0.00025791, -0.00025782, -0.00025784, -0.00025736, -0.00027784,\n",
       "       -0.0002786 , -0.00025653, -0.00024191, -0.00025814, -0.00027882,\n",
       "       -0.00027823, -0.00017796, -0.0001948 , -0.00026017, -0.00028046,\n",
       "       -0.00025714, -0.00025716, -0.00025879, -0.00025589, -0.00027876,\n",
       "       -0.00021531, -0.00025527, -0.00025717, -0.00027943, -0.00027868,\n",
       "       -0.00027977, -0.00028053, -0.0002781 , -0.00025907, -0.00027891,\n",
       "       -0.00027845, -0.00027928, -0.00025777, -0.00027894, -0.00025609,\n",
       "       -0.00025851, -0.00027993, -0.00027962, -0.00025541, -0.00027869,\n",
       "       -0.00025655, -0.00025763, -0.00025875, -0.00025128, -0.00025711,\n",
       "       -0.0002573 , -0.00027965, -0.00025614, -0.00025792, -0.00025711,\n",
       "       -0.00025786, -0.00025691, -0.00027804, -0.00027942, -0.00027862,\n",
       "       -0.00027918, -0.00025666, -0.00025778, -0.00027881, -0.00027903,\n",
       "       -0.00025617, -0.00027876, -0.00022654, -0.00025836, -0.00027854,\n",
       "       -0.00025699, -0.00027762, -0.00025895, -0.00027877, -0.00013211,\n",
       "       -0.00025631, -0.00027912, -0.0002581 , -0.00025748, -0.00027801,\n",
       "       -0.00025846, -0.00025819, -0.00025665, -0.00028054, -0.00027845,\n",
       "       -0.00025799, -0.00027865, -0.00027914, -0.00025652, -0.00027962,\n",
       "       -0.00025855, -0.0002572 , -0.00027901, -0.00016496, -0.00025724,\n",
       "       -0.00025819, -0.00027689, -0.00025652, -0.00025647, -0.00024503,\n",
       "       -0.00027904, -0.0002571 , -0.00027825, -0.00025772, -0.00027757,\n",
       "       -0.00027768, -0.00025724, -0.00027815, -0.00025884, -0.00025805])"
      ]
     },
     "execution_count": 546,
     "metadata": {},
     "output_type": "execute_result"
    }
   ],
   "source": [
    "u_sol_GPD"
   ]
  },
  {
   "cell_type": "markdown",
   "metadata": {},
   "source": [
    "**4)** 📝 D'après la caractérisation des solutions du problème primal-dual vu en cours, on sait que la solution $w$ du problème primal est liée à la solution $u$ du problème dual via l'inclusion $w \\in \\partial f^*(-\\Phi^\\top u)$.\n",
    "Montrer que ceci implique que $-\\Phi^\\top u$ peut s'écrire   $-\\Phi^\\top u= (a,0)$ où $a \\in \\mathbb{R}^n$, et que $w=(a,b)$ pour un certain $b$ à déterminer."
   ]
  },
  {
   "cell_type": "markdown",
   "metadata": {},
   "source": [
    "\n",
    "\n",
    "**5)** Vous vérifierez numériquement que la dernière coordonnée de $\\Phi^\\top u$ est bien nulle. Définissez `a`."
   ]
  },
  {
   "cell_type": "code",
   "execution_count": 547,
   "metadata": {},
   "outputs": [
    {
     "name": "stdout",
     "output_type": "stream",
     "text": [
      "La dernière coordonnée de Φ⊤𝑢 est nulle.\n",
      "dernière coordonnée -8.673617379884035e-19\n"
     ]
    }
   ],
   "source": [
    "# Vérifier si la dernière coordonnée de Φ⊤𝑢 est nulle\n",
    "last_coordinate = np.dot(Phi[:, -1], u_sol_GPD)\n",
    "tolerance = 1e-6  # Tolerance pour considérer la valeur comme étant nulle\n",
    "\n",
    "if abs(last_coordinate) < tolerance:\n",
    "    print(\"La dernière coordonnée de Φ⊤𝑢 est nulle.\")\n",
    "    print(\"dernière coordonnée\",last_coordinate)\n",
    "else:\n",
    "    print(\"La dernière coordonnée de Φ⊤𝑢 n'est pas nulle.\")"
   ]
  },
  {
   "cell_type": "markdown",
   "metadata": {},
   "source": [
    "on remarque que c'est une valeur négligeable"
   ]
  },
  {
   "cell_type": "markdown",
   "metadata": {},
   "source": [
    "**6)** On admet par la suite que l'on peut prendre $b=0$, c-à-d que $w = \\Phi^\\top u$ est solution de notre problème primal (P). Reprendre le code de la partie **I.1**, pour afficher les nuages de points ainsi que la droite définie par le paramètre $w \\in \\mathbb{R}^3$ que vous venez d'obtenir. Êtes-vous satisfait$\\cdot$e de la solution obtenue?"
   ]
  },
  {
   "cell_type": "markdown",
   "metadata": {},
   "source": [
    "Réponse :  Non pas vraiment,car l'hyperplan est plus proche des rouges que des bleus "
   ]
  },
  {
   "cell_type": "code",
   "execution_count": 548,
   "metadata": {},
   "outputs": [
    {
     "data": {
      "image/png": "[encoded data removed]",
      "text/plain": [
       "<Figure size 640x480 with 1 Axes>"
      ]
     },
     "metadata": {},
     "output_type": "display_data"
    }
   ],
   "source": [
    "trace_droite(u_sol_GPD)\n",
    "_=plt.scatter(X[:, 0], X[:, 1], c=couleur)"
   ]
  },
  {
   "cell_type": "markdown",
   "metadata": {},
   "source": [
    "## C. Résolution via une méthode d'éclatement"
   ]
  },
  {
   "cell_type": "markdown",
   "metadata": {},
   "source": [
    "Dans cette section, l'objectif est que vous soyez plus autonomes. Nous vous fournissons un algorithme, un théorème, et vous devez vous en servir pour trouver une solution aux problèmes (P) et (D). A vous de vérifier (et de nous convaincre) que votre code fonctionne et vous fournit une solution satisfaisante."
   ]
  },
  {
   "cell_type": "markdown",
   "metadata": {},
   "source": [
    "On introduit l'algorithme de **Loris-Verhoeven**, qui est une généralisation de la méthode du gradient proximal, et un cas particulier de l'algorithme de Yan, qui s'applique à la minimisation d'une fonction de la forme $g(Ax) + h(x)$, où $g \\in \\Gamma_0(\\mathbb{R}^M)$ et $h \\in \\Gamma_0(\\mathbb{R}^N) \\cap C^{1,1}_L(\\mathbb{R}^N)$:\n",
    "\n",
    "| L'algorithme de **Loris-Verhoeven** |\n",
    "| --- |\n",
    "| Soient $x_0 \\in \\mathbb{R}^N, u \\in \\mathbb{R}^M$, $\\lambda, \\sigma >0$ |\n",
    "| \\begin{eqnarray*} x_{k+1} &=& x_k - \\lambda \\nabla h(x_k) - \\lambda A^\\top u_n \\\\ u_{k+1} &=&  {\\rm prox}_{{\\sigma}g^*}\\left(u_n + \\sigma A \\left[2x_{k+1} - x_k + \\lambda \\nabla h(x_k) - \\lambda \\nabla h(x_{k+1}) \\right]\\right) \\end{eqnarray*} |"
   ]
  },
  {
   "cell_type": "markdown",
   "metadata": {},
   "source": [
    "**Théorème:** Soient $h : \\mathbb{R}^n \\to \\mathbb{R}$ une fonction différentiable à gradient $L$-Lipschitzien,  $g : \\mathbb{R}^m \\to \\mathbb{R}\\cup\\{+\\infty\\}$ une fonction convexe s.c.i. propre, et $A \\in \\mathcal{M}_{m,n}(\\mathbb{R})$.\n",
    "Soit $(x_k,u_k)_{k \\in \\mathbb{N}}$ une suite générée par l'algorithme de Loris-Verhoeven, avec\n",
    "$$ \\lambda \\in \\left]0, \\frac{2}{L}\\right[ \\quad \\text{ et } \\quad \\sigma \\in \\left]0, \\frac{1}{\\lambda \\Vert A \\Vert^2}\\right].$$\n",
    "Alors \n",
    "- $x_k$ converge vers un minimiseur de $f + g \\circ A$, s'il en existe,\n",
    "- $u_k$ converge vers un minimiseur de $f^* \\circ -A^\\top + g^*$ s'il en existe."
   ]
  },
  {
   "cell_type": "code",
   "execution_count": 568,
   "metadata": {},
   "outputs": [],
   "source": [
    "P = np.ones(3)\n",
    "P[-1] = 0  \n",
    "\n",
    "def grad_h(x) :\n",
    "    return np.dot(P,x)\n"
   ]
  },
  {
   "cell_type": "code",
   "execution_count": 592,
   "metadata": {},
   "outputs": [],
   "source": [
    "# si f(x) = g(x) + ⟨a, x⟩, ou` a ∈ RN proxλg(x) = proxλ f(x − λa) \n",
    "\n",
    "# or notre g* =  δK + <e,.>  ce qui implique que poxλg*(x) = proj_K(x-λe)\n",
    "\n",
    "def prox_lambda_g_star(u,lambda_value):\n",
    "    \n",
    "    return proj_K(u-lambda_value*e) \n",
    "\n",
    "    "
   ]
  },
  {
   "cell_type": "code",
   "execution_count": 593,
   "metadata": {},
   "outputs": [],
   "source": [
    "def loris_verhoeven_algorithm(Phi,P,lambda_val, sigma, num_iterations):\n",
    "    \n",
    "    x_next= np.zeros(Phi.shape[1])\n",
    "    u_next= np.zeros(Phi.shape[0])\n",
    "    u=np.ones(Phi.shape[0])\n",
    "    \n",
    "    for _ in range(num_iterations):\n",
    "        x = x_next\n",
    "        x_next = x - lambda_val * grad_h(x) - lambda_val *np.dot( Phi.T , u)\n",
    "        u_next = prox_lambda_g_star((u + np.dot(sigma *Phi,(2 *x_next - x + lambda_val *grad_h(x) - lambda_val *grad_h(x_next)))*sigma),e)\n",
    "        \n",
    "\n",
    "    return x_next,u_next"
   ]
  },
  {
   "cell_type": "code",
   "execution_count": 594,
   "metadata": {},
   "outputs": [
    {
     "data": {
      "text/plain": [
       "(array([-0.78698212, -0.79243236,  0.01139502]),\n",
       " array([-3.77313419, -6.19769978, -4.96091653, -4.25705838, -5.62726512,\n",
       "        -6.1368501 , -4.43032007, -4.40795667, -3.77569033, -4.00436367,\n",
       "        -6.36038497, -5.07732638, -4.02783097, -3.37549068, -5.46040699,\n",
       "        -3.90847291, -4.39241663, -3.76731307, -5.2443016 , -3.26860768,\n",
       "        -2.79920979, -3.91853458, -3.67519532, -4.47977154, -5.108689  ,\n",
       "        -3.85255879, -5.74382442, -5.85962831, -6.57847961, -4.70871347,\n",
       "        -3.83014797, -4.29608357, -5.17511772, -5.0018543 , -3.4687408 ,\n",
       "        -4.84900603, -2.84224811, -4.74288223, -4.73500037, -4.76862573,\n",
       "        -4.02449337, -4.58280284, -2.64739448, -4.64023165, -3.77466662,\n",
       "        -5.22337777, -3.18976594, -2.83079847, -4.58081834, -4.76252421,\n",
       "        -3.81546476, -4.48394853, -4.60680925, -4.44174153, -3.28305717,\n",
       "        -5.23560789, -4.79465188, -6.32447781, -4.71193018, -3.96192139,\n",
       "        -3.03419047, -2.8278783 , -4.21878497, -4.35003732, -5.83200193,\n",
       "        -3.97338011, -5.55504342, -5.95130939, -4.84359272, -5.31768609,\n",
       "        -3.25015779, -4.07194579, -5.12280073, -4.32330866, -5.48929969,\n",
       "        -5.85527213, -5.68769517, -2.46106   , -4.14604344, -5.37211019,\n",
       "        -5.13790861, -4.52537758, -4.44501332, -2.57617548, -4.05945417,\n",
       "        -4.35050625, -4.23610653, -6.1958356 , -4.73054883, -2.330759  ,\n",
       "        -5.31331386, -3.66747277, -4.83847548, -3.57579159, -3.69823703,\n",
       "        -5.0349469 , -4.89008593, -4.75300411, -4.36420235, -3.27266078,\n",
       "        -4.10827483, -3.4916802 , -6.37456089, -5.17807279, -4.30718588,\n",
       "        -3.64825518, -7.07189796, -6.6612394 , -6.56955535, -6.03773097,\n",
       "        -4.13746367, -4.16724489, -5.88006933, -2.90605795, -4.19683681,\n",
       "        -6.53256966, -2.14015987, -4.19131819, -4.86168156, -4.13109924,\n",
       "        -5.32601332, -5.95297267, -3.56538765, -6.16657162, -4.41681226,\n",
       "        -3.81806063, -4.76886972, -4.81639456, -4.35417303, -2.95123608,\n",
       "        -5.57722298, -5.51425469, -5.03217637, -2.39140976, -4.12275054,\n",
       "        -3.55456418, -4.64174726, -5.63036853, -6.3256151 , -4.22067432,\n",
       "        -4.23474484, -5.16360524, -3.07391766, -4.86758002, -4.01169046,\n",
       "        -4.88641178, -3.83116356, -3.46841317, -4.938821  , -4.23720457,\n",
       "        -4.82808859, -3.44879078, -4.71612539, -4.30207134, -4.57959556,\n",
       "        -3.09789611, -4.14214216, -6.46989181, -5.45783042, -3.97480962,\n",
       "        -3.92072764, -3.02399835, -6.07567756, -4.30428869, -7.04470888,\n",
       "        -3.36249159, -4.57075855, -5.13210714, -4.49427673, -3.4998874 ,\n",
       "        -5.3765267 , -5.18398226, -3.55879982, -6.14812897, -4.03896486,\n",
       "        -5.05615533, -4.04724663, -4.54218323, -3.59366929, -5.2349594 ,\n",
       "        -5.47243294, -4.24953484, -4.6109514 , -7.15049399, -4.27718647,\n",
       "        -5.10086438, -2.20477426, -3.58693819, -3.21272491, -6.66783297,\n",
       "        -4.56601994, -4.07078635, -3.80312522, -4.7270907 , -2.9846437 ,\n",
       "        -3.0941521 , -4.25504299, -3.58855201, -5.93761389, -5.05321739]))"
      ]
     },
     "execution_count": 594,
     "metadata": {},
     "output_type": "execute_result"
    }
   ],
   "source": [
    "i=loris_verhoeven_algorithm(Phi, P,0.00026401499803852294, 0.8929,5)\n",
    "i"
   ]
  },
  {
   "cell_type": "markdown",
   "metadata": {},
   "source": [
    "## D. Conclusion"
   ]
  },
  {
   "cell_type": "markdown",
   "metadata": {},
   "source": [
    "Comparer les trois solutions obtenues. D'une part vous visualiserez les 3 droites séparatrices correspondantes. Ensuite vous évaluerez $f$ en ces points. Donner votre avis sur vos résultats."
   ]
  },
  {
   "cell_type": "markdown",
   "metadata": {},
   "source": [
    "Avis : Je pense que la solution  fournie par scipy de python est plus optimale car se trouvant équidistantes entre les points les plus proches des rouges et des bleus, après on constate que la solution obtenu par la méthode du gradient projeté est meilleur que cellle fournie par la méthode d'éclatement"
   ]
  },
  {
   "cell_type": "code",
   "execution_count": 595,
   "metadata": {},
   "outputs": [
    {
     "data": {
      "image/png": "[encoded data removed]",
      "text/plain": [
       "<Figure size 640x480 with 1 Axes>"
      ]
     },
     "metadata": {},
     "output_type": "display_data"
    }
   ],
   "source": [
    "trace_droite(u_sol_GPD) # en bleu\n",
    "_=plt.scatter(X[:, 0], X[:, 1], c=couleur)\n",
    "\n",
    "trace_droite(i[1]) #orange\n",
    "_=plt.scatter(X[:, 0], X[:, 1], c=couleur)\n",
    "\n",
    "trace_droite(w_sol_scipy) #vert\n",
    "_=plt.scatter(X[:, 0], X[:, 1], c=couleur)\n"
   ]
  },
  {
   "cell_type": "code",
   "execution_count": null,
   "metadata": {},
   "outputs": [],
   "source": []
  },
  {
   "cell_type": "markdown",
   "metadata": {
    "tags": []
   },
   "source": [
    "# III. Classifier des images"
   ]
  },
  {
   "cell_type": "markdown",
   "metadata": {
    "tags": []
   },
   "source": [
    "## 1. Obtention des données : Importer le jeu de données MNIST\n",
    "\n",
    "On va résoudre un problème similaire, sauf que cette fois les données ne sont plus des points $x_i \\in \\mathbb{R}^2$ rouges ou bleus, mais des images $x_i \\in \\mathbb{R}^{64}$ de chiffres écrits à la main.\n",
    "On ne parlera donc plus de \"droite séparatrice\" mais d'\"hyperplan séparateur\".\n",
    "\n",
    "| Un nouveau jeu de données | \n",
    "| ----------- |\n",
    "| ![](images/mnist.jpg) |\n",
    "| Chaque image de $8\\times 8$ pixels est représentée par un point $x_i \\in \\mathbb{R}^{64}$ |\n",
    "\n",
    "Pour ce TP on va se contenter de séparer des images de 0 et de 1. Leurs étiquettes $y_i$ prendront respectivement les valeurs $-1$ et $+1$.\n",
    "\n"
   ]
  },
  {
   "cell_type": "code",
   "execution_count": 462,
   "metadata": {},
   "outputs": [],
   "source": [
    "import sklearn.datasets\n",
    "import sklearn.model_selection"
   ]
  },
  {
   "cell_type": "code",
   "execution_count": 463,
   "metadata": {},
   "outputs": [],
   "source": [
    "# paramètres pour l'affichage des images de nombres\n",
    "plt.rcParams['xtick.bottom'] = False\n",
    "plt.rcParams['ytick.left'] = False\n",
    "plt.rcParams['xtick.labelbottom'] = False\n",
    "plt.rcParams['ytick.labelleft'] = False\n",
    "plt.rcParams['image.cmap'] = 'gray_r'"
   ]
  },
  {
   "cell_type": "code",
   "execution_count": 464,
   "metadata": {},
   "outputs": [],
   "source": [
    "# importe les données\n",
    "digits = sklearn.datasets.load_digits() # Importe un jeu de données à classer (10 classes)\n",
    "digits.data = digits.data*1/np.max(digits.data) # normalise : coeffs dans [0,1]\n",
    "classes = [0, 1] # Définit les 2 classes de nombres avec lesquelles on va travailler\n",
    "idx_classes = np.logical_or(digits.target == classes[0], digits.target == classes[1]) # Localise les deux classes ..\n",
    "digits.data = digits.data[idx_classes] # .. les extrait ..\n",
    "digits.target = digits.target[idx_classes] # .. et jette le reste\n",
    "digits.target = np.where(digits.target==classes[0],-1, 1) # Transforme les étiquettes de classes en {-1,+1}\n",
    "\n",
    "X, X_test, Y, Y_test = sklearn.model_selection.train_test_split( # On coupe le jeu de données en deux\n",
    "                        digits.data, digits.target, train_size=25, shuffle=True)"
   ]
  },
  {
   "cell_type": "code",
   "execution_count": 465,
   "metadata": {},
   "outputs": [
    {
     "data": {
      "text/plain": [
       "array([ 1, -1,  1,  1,  1,  1, -1,  1, -1,  1,  1,  1,  1,  1, -1, -1, -1,\n",
       "        1,  1,  1,  1, -1,  1,  1, -1])"
      ]
     },
     "execution_count": 465,
     "metadata": {},
     "output_type": "execute_result"
    }
   ],
   "source": [
    "Y"
   ]
  },
  {
   "cell_type": "code",
   "execution_count": 466,
   "metadata": {},
   "outputs": [
    {
     "data": {
      "image/png": "[encoded data removed]",
      "text/plain": [
       "<Figure size 300x300 with 25 Axes>"
      ]
     },
     "metadata": {},
     "output_type": "display_data"
    }
   ],
   "source": [
    "fig, axs = plt.subplots(5, 5, figsize=(3, 3))\n",
    "for i in range(5):\n",
    "    for j in range(5):\n",
    "        k = i*5 + j\n",
    "        _ = axs[i,j].imshow(X[k].reshape(8,8))\n",
    "plt.subplots_adjust(wspace=0, hspace=0)"
   ]
  },
  {
   "cell_type": "markdown",
   "metadata": {},
   "source": [
    "**1)** On dispose de données `X`, qui contient des images de 0 et 1 écrits à la main. Plus précisément, pour tout `k`, `X[k]` représente une telle image 2D (8x8 pixels) qui a été aplatie en un vecteur 1D.\n",
    "\n",
    "Utiliser `.shape` pour déterminer le nombre d'images que contient `X`.\n",
    "\n",
    "Prendre une image au hasard, et l'afficher avec la fonction `plt.imshow()`. Afin de l'afficher, vous aurez besoin de temporairement remettre cette image sous forme 2D avec la méthode `.reshape(nb_lignes, nb_colonnes)` . Est-ce l'image d'un 0 ou d'un 1?"
   ]
  },
  {
   "cell_type": "code",
   "execution_count": 467,
   "metadata": {},
   "outputs": [
    {
     "name": "stdout",
     "output_type": "stream",
     "text": [
      "Nombre d'images dans X : 25\n"
     ]
    }
   ],
   "source": [
    "print(\"Nombre d'images dans X :\", X.shape[0])"
   ]
  },
  {
   "cell_type": "code",
   "execution_count": 468,
   "metadata": {},
   "outputs": [
    {
     "data": {
      "image/png": "[encoded data removed]",
      "text/plain": [
       "<Figure size 640x480 with 1 Axes>"
      ]
     },
     "metadata": {},
     "output_type": "display_data"
    },
    {
     "name": "stdout",
     "output_type": "stream",
     "text": [
      "L'image choisie représente un 1.\n"
     ]
    }
   ],
   "source": [
    "rand_idx = np.random.randint(X.shape[0])\n",
    "rand_image = X[rand_idx].reshape(8, 8) # Remet l'image sous forme 2D pour affichage\n",
    "plt.imshow(rand_image)\n",
    "plt.show()\n",
    "\n",
    "if Y[rand_idx] == -1:\n",
    "    print(\"L'image choisie représente un 0.\")\n",
    "else:\n",
    "    print(\"L'image choisie représente un 1.\")\n"
   ]
  },
  {
   "cell_type": "markdown",
   "metadata": {},
   "source": [
    "**2)** On dispose d'étiquettes `Y` qui encodent la nature des images contenues dans `X`. Plus précisément, `Y[k]` contient `-1` si `X[k]` est l'image d'un 0, ou `+1` si `X[k]` est l'image d'un 1.\n",
    "\n",
    "Reconsidérer l'image affichée à la question précédente, et vérifier que son étiquette correspond à ce que vous avez observé."
   ]
  },
  {
   "cell_type": "code",
   "execution_count": 469,
   "metadata": {},
   "outputs": [
    {
     "name": "stdout",
     "output_type": "stream",
     "text": [
      "Etiquette de l'image choisie correspond bien: 1\n"
     ]
    }
   ],
   "source": [
    "print(\"Etiquette de l'image choisie correspond bien:\", Y[rand_idx])\n"
   ]
  },
  {
   "cell_type": "markdown",
   "metadata": {
    "tags": []
   },
   "source": [
    "## 2. Phase d'entraînement : Trouver un classifieur avec la méthode SVM"
   ]
  },
  {
   "cell_type": "markdown",
   "metadata": {},
   "source": [
    "**0)** Définir `m` le nombre de données dans notre jeu de données ; et `n` la taille de chacune de ces données."
   ]
  },
  {
   "cell_type": "code",
   "execution_count": 470,
   "metadata": {},
   "outputs": [],
   "source": [
    "m = X.shape[0]\n",
    "n=64"
   ]
  },
  {
   "cell_type": "code",
   "execution_count": 471,
   "metadata": {},
   "outputs": [
    {
     "data": {
      "text/plain": [
       "25"
      ]
     },
     "execution_count": 471,
     "metadata": {},
     "output_type": "execute_result"
    }
   ],
   "source": [
    "X.shape[1]\n",
    "m"
   ]
  },
  {
   "cell_type": "code",
   "execution_count": 472,
   "metadata": {},
   "outputs": [
    {
     "data": {
      "text/plain": [
       "array([[0.    , 0.    , 0.625 , ..., 1.    , 1.    , 0.625 ],\n",
       "       [0.    , 0.    , 0.4375, ..., 0.0625, 0.    , 0.    ],\n",
       "       [0.    , 0.    , 0.    , ..., 0.8125, 0.    , 0.    ],\n",
       "       ...,\n",
       "       [0.    , 0.    , 0.1875, ..., 0.25  , 0.    , 0.    ],\n",
       "       [0.    , 0.    , 0.0625, ..., 0.6875, 0.    , 0.    ],\n",
       "       [0.    , 0.    , 0.3125, ..., 0.0625, 0.    , 0.    ]])"
      ]
     },
     "execution_count": 472,
     "metadata": {},
     "output_type": "execute_result"
    }
   ],
   "source": [
    "X"
   ]
  },
  {
   "cell_type": "markdown",
   "metadata": {},
   "source": [
    "**1)** Nous allons trouver un classifieur linéaire avec la méthode SVM, comme au **I.**\n",
    "\n",
    "Pour ce faire, définir deux vecteurs `e`$= (1, \\dots , 1)^\\top$, `infini`$=(+\\infty, \\dots, +\\infty)^\\top$ de $\\mathbb{R}^m$, ainsi que la matrice $\\Phi \\in \\mathcal{M}_{m,n+1}(\\mathbb{R})$ définie en Section I.2. "
   ]
  },
  {
   "cell_type": "code",
   "execution_count": 473,
   "metadata": {},
   "outputs": [
    {
     "data": {
      "text/plain": [
       "array([1., 1., 1., 1., 1., 1., 1., 1., 1., 1., 1., 1., 1., 1., 1., 1., 1.,\n",
       "       1., 1., 1., 1., 1., 1., 1., 1.])"
      ]
     },
     "execution_count": 473,
     "metadata": {},
     "output_type": "execute_result"
    }
   ],
   "source": [
    "e = np.ones(m)\n",
    "e"
   ]
  },
  {
   "cell_type": "code",
   "execution_count": 474,
   "metadata": {},
   "outputs": [
    {
     "data": {
      "text/plain": [
       "array([inf, inf, inf, inf, inf, inf, inf, inf, inf, inf, inf, inf, inf,\n",
       "       inf, inf, inf, inf, inf, inf, inf, inf, inf, inf, inf, inf])"
      ]
     },
     "execution_count": 474,
     "metadata": {},
     "output_type": "execute_result"
    }
   ],
   "source": [
    "infini = np.inf * np.ones(m)\n",
    "infini"
   ]
  },
  {
   "cell_type": "code",
   "execution_count": 475,
   "metadata": {},
   "outputs": [
    {
     "data": {
      "text/plain": [
       "array([[ 0.    ,  0.    ,  0.625 , ...,  1.    ,  0.625 ,  1.    ],\n",
       "       [-0.    , -0.    , -0.4375, ..., -0.    , -0.    , -1.    ],\n",
       "       [ 0.    ,  0.    ,  0.    , ...,  0.    ,  0.    ,  1.    ],\n",
       "       ...,\n",
       "       [ 0.    ,  0.    ,  0.1875, ...,  0.    ,  0.    ,  1.    ],\n",
       "       [ 0.    ,  0.    ,  0.0625, ...,  0.    ,  0.    ,  1.    ],\n",
       "       [-0.    , -0.    , -0.3125, ..., -0.    , -0.    , -1.    ]])"
      ]
     },
     "execution_count": 475,
     "metadata": {},
     "output_type": "execute_result"
    }
   ],
   "source": [
    "Phi = np.hstack((Y.reshape((-1, 1)) * X, Y.reshape((-1, 1))))\n",
    "Phi"
   ]
  },
  {
   "cell_type": "markdown",
   "metadata": {},
   "source": [
    "**2)** Adapter à partir de la Section **II** la méthode de résolution de votre choix pour obtenir une solution $w=(a,b) \\in \\mathbb{R}^{n+1}$ du problème de SVM (P). Vous appellerez cette solution `w_mnist`"
   ]
  },
  {
   "cell_type": "code",
   "execution_count": 485,
   "metadata": {},
   "outputs": [],
   "source": [
    "from scipy.optimize import LinearConstraint, minimize\n"
   ]
  },
  {
   "cell_type": "code",
   "execution_count": 486,
   "metadata": {},
   "outputs": [],
   "source": [
    "def objectif(w):\n",
    "    a = w[:-1]\n",
    "    return np.linalg.norm(a) ** 2"
   ]
  },
  {
   "cell_type": "code",
   "execution_count": 487,
   "metadata": {},
   "outputs": [],
   "source": [
    "LinearConstraint = LinearConstraint(Phi, e, infini)\n"
   ]
  },
  {
   "cell_type": "code",
   "execution_count": 488,
   "metadata": {},
   "outputs": [
    {
     "data": {
      "text/plain": [
       "(array([-2.42526339e-06, -7.34359227e-06,  1.60825617e-02, -2.15875088e-01,\n",
       "        -6.08221072e-03,  1.62524848e-01,  1.60746334e-02,  5.47739232e-06,\n",
       "        -4.85619597e-05, -1.41152490e-06, -6.40560545e-02,  1.51626915e-03,\n",
       "         4.75812358e-02, -8.66933010e-03,  5.88078592e-02, -2.19457368e-07,\n",
       "         1.79461553e-05,  2.05458691e-02, -1.48744851e-01,  7.64652376e-02,\n",
       "         2.45548589e-01, -4.12289832e-02, -5.44666853e-02,  2.67308214e-06,\n",
       "        -3.48760541e-05, -3.16600784e-02, -2.04228811e-01,  2.02877600e-01,\n",
       "         3.56031385e-01,  1.74267387e-02, -1.46822813e-01,  1.35636058e-05,\n",
       "         4.80775806e-06, -1.14861349e-01, -1.78254271e-01,  2.11511751e-01,\n",
       "         3.15698670e-01, -3.94003134e-02, -1.50535152e-01, -1.28755802e-05,\n",
       "        -5.04795188e-06, -1.15686660e-01, -2.77716506e-01,  1.23245253e-01,\n",
       "         2.03935455e-01, -1.71018756e-01, -9.95154853e-02,  9.89731107e-06,\n",
       "         1.71490012e-05,  1.68649083e-02, -2.43090864e-01, -1.48685366e-01,\n",
       "         1.98169324e-02, -1.99239625e-01,  5.61814793e-03,  5.52313543e-03,\n",
       "         3.96114863e-06, -3.45589980e-05,  1.99983585e-02, -1.65512913e-01,\n",
       "         5.85590578e-03,  1.10015304e-01,  8.83063742e-02,  5.51789051e-02]),\n",
       " 0.5849526991263058)"
      ]
     },
     "execution_count": 488,
     "metadata": {},
     "output_type": "execute_result"
    }
   ],
   "source": [
    "w_sol_scipy = minimize(\n",
    "    fun=objectif,\n",
    "    constraints=LinearConstraint,\n",
    "    x0=np.random.randn(n + 1),\n",
    ").x\n",
    "\n",
    "a = w_sol_scipy[:-1]\n",
    "b = w_sol_scipy[-1]\n",
    "\n",
    "w_mnist = (a, b)\n",
    "w_mnist"
   ]
  },
  {
   "cell_type": "markdown",
   "metadata": {},
   "source": [
    "**3)** Ecrire une fonction `classifieur`, qui:\n",
    "- prend en entrée une image aplatie `x`$\\in \\mathbb{R}^n$\n",
    "- prend en entrée un vecteur de paramètres  `w`$=(a,b)\\in \\mathbb{R}^n \\times \\mathbb{R}$\n",
    "- retourne +1 si $\\langle a, x \\rangle + b \\geq 0$, -1 si $\\langle a, x \\rangle + b \\leq 0$"
   ]
  },
  {
   "cell_type": "code",
   "execution_count": 489,
   "metadata": {},
   "outputs": [],
   "source": [
    "def classifieur(x, w):\n",
    "    a, b = w\n",
    "    if np.dot(a, x) + b >= 0:\n",
    "        return 1\n",
    "    else:\n",
    "        return -1\n"
   ]
  },
  {
   "cell_type": "markdown",
   "metadata": {},
   "source": [
    "**4)** Prendre une image au hasard dans `X`, et comparer sa vraie étiquette avec la prédiction faite par notre nouveau classifieur. Notre prédiction est elle bonne?"
   ]
  },
  {
   "cell_type": "code",
   "execution_count": 490,
   "metadata": {},
   "outputs": [
    {
     "name": "stdout",
     "output_type": "stream",
     "text": [
      "Prédiction correcte!\n"
     ]
    }
   ],
   "source": [
    "import random\n",
    "\n",
    "# Prendre une image au hasard dans X\n",
    "random_index = random.randint(0, len(X) - 1)\n",
    "image = X[random_index]\n",
    "\n",
    "# Faire la prédiction avec le classifieur\n",
    "prediction = classifieur(image,w_mnist)\n",
    "\n",
    "# Obtenir l'étiquette réelle\n",
    "true_label = Y[random_index]\n",
    "\n",
    "# Vérifier si la prédiction est correcte\n",
    "if prediction == true_label:\n",
    "    print(\"Prédiction correcte!\")\n",
    "else:\n",
    "    print(\"Prédiction incorrecte!\")\n"
   ]
  },
  {
   "cell_type": "markdown",
   "metadata": {
    "tags": []
   },
   "source": [
    "## 3. Phase de test : connaitre la vraie performance de notre classifieur"
   ]
  },
  {
   "cell_type": "markdown",
   "metadata": {},
   "source": [
    "On vient de voir que notre classifieur marche bien lorsque on l'applique aux images contenues dans `X`. Or ceci n'est pas très surprenant : le classifieur a été construit à partir de `w_mnist`, la solution d'un problème d'optimisation dépendant des données contenues dans `X,Y`. Pour vraiment déterminer si notre modèle a **appris** quelque chose, il faut le tester sur des données qu'il n'a encore **jamais vues**.\n",
    "\n",
    "On va donc maintenant utiliser les données de test `X_test` et `Y_test` que l'on a pas encore utilisées."
   ]
  },
  {
   "cell_type": "markdown",
   "metadata": {},
   "source": [
    "**1)** Calculer le pourcentage de bonnes réponses données par notre `classifieur`. Autrement dit, vous allez parcourir l'ensemble des données de test, et calculer le pourcentage du nombre de fois que le classifieur donne la bonne prédiction, en la comparant à la vraie étiquette contenue dans `Y_test`. Que pensez-vous du nombre obtenu?"
   ]
  },
  {
   "cell_type": "code",
   "execution_count": 491,
   "metadata": {},
   "outputs": [
    {
     "name": "stdout",
     "output_type": "stream",
     "text": [
      "Pourcentage de bonnes réponses : 100.00%\n"
     ]
    }
   ],
   "source": [
    "correct_predictions = 0\n",
    "total_predictions = len(X_test)\n",
    "\n",
    "for i in range(len(X_test)):\n",
    "    image = X_test[i]\n",
    "    true_label = Y_test[i]\n",
    "    prediction = classifieur(image, w_mnist)\n",
    "\n",
    "    if prediction == true_label:\n",
    "        correct_predictions += 1\n",
    "\n",
    "accuracy = correct_predictions / total_predictions * 100\n",
    "print(\"Pourcentage de bonnes réponses : {:.2f}%\".format(accuracy))\n"
   ]
  },
  {
   "cell_type": "markdown",
   "metadata": {},
   "source": [
    "**2)** Si le taux de bonne réponse n'est pas de 100%, essayez de trouver dans le jeu de données quelles sont les images sur lesquelles le classifieur se trompe."
   ]
  },
  {
   "cell_type": "code",
   "execution_count": 492,
   "metadata": {},
   "outputs": [],
   "source": [
    "\n",
    "misclassified_images = []\n",
    "\n",
    "for i in range(len(X_test)):\n",
    "    image = X_test[i]\n",
    "    true_label = Y_test[i]\n",
    "    prediction = classifieur(image, w_mnist)\n",
    "\n",
    "    if prediction != true_label:\n",
    "        misclassified_images.append(i)\n",
    "\n",
    "# Afficher les images mal classées\n",
    "for index in misclassified_images:\n",
    "    image = X_test[index]\n",
    "    true_label = Y_test[index]\n",
    "    predicted_label = classifieur(image, w_mnist)\n",
    "    plt.imshow(image.reshape(8, 8), cmap='gray')\n",
    "    plt.title(f\"Vraie étiquette : {true_label}, Prédiction : {predicted_label}\")\n",
    "    plt.axis('off')\n",
    "    plt.show()\n"
   ]
  },
  {
   "cell_type": "markdown",
   "metadata": {},
   "source": [
    "**3)** Si vous retournez au début de la section **III.**, vous pouvez voir qu'au moment de l'importation nous avons demandé à travailler avec les `classes` 0 et 1.\n",
    "\n",
    "Remplacez ces chiffres par deux autres chiffres de votre choix, et relancez votre code afin de déterminer le taux de bonne réponse du classifieur. Essayez de prendre des chiffres difficiles à classer!\n",
    "\n",
    "**NB:** Vous ne serez pas notés sur cette question, qui vous laisse libre de vous amuser. Néanmois je vous conseille de ne pas l'ignorer, car vous devrez de toute façon faire ce genre de choses dans les questions suivantes."
   ]
  },
  {
   "cell_type": "code",
   "execution_count": 493,
   "metadata": {},
   "outputs": [],
   "source": [
    "import numpy as np\n",
    "import sklearn.datasets\n",
    "import sklearn.model_selection\n",
    "\n",
    "digits= sklearn.datasets.load_digits()  # Importe un jeu de données à classer (10 classes)\n",
    "digits.data = digits.data * 1 / np.max(digits.data)  # normalise : coeffs dans [0,1]\n",
    "classes = [5, 8]  # Définit les 2 classes de nombres avec lesquelles on va travailler\n",
    "idx_classes = np.logical_or(digits.target == classes[0], digits.target == classes[1])  # Localise les deux classes ..\n",
    "digits.data = digits.data[idx_classes]  # .. les extrait ..\n",
    "digits.target = digits.target[idx_classes]  # .. et jette le reste\n",
    "digits.target = np.where(digits.target == classes[0], -1, 1)  # Transforme les étiquettes de classes en {-1,+1}\n",
    "\n",
    "X, X_test, Y, Y_test = sklearn.model_selection.train_test_split(  # On coupe le jeu de données en deux\n",
    "    digits.data, digits.target, train_size=25, shuffle=True)\n"
   ]
  },
  {
   "cell_type": "code",
   "execution_count": 494,
   "metadata": {},
   "outputs": [
    {
     "name": "stdout",
     "output_type": "stream",
     "text": [
      "Pourcentage de bonnes réponses : 54.98%\n"
     ]
    }
   ],
   "source": [
    "# Calcul du pourcentage de bonnes réponses\n",
    "correct_predictions = 0\n",
    "total_predictions = len(X_test)\n",
    "\n",
    "for i in range(len(X_test)):\n",
    "    image = X_test[i]\n",
    "    true_label = Y_test[i]\n",
    "    prediction = classifieur(image, w_mnist)\n",
    "\n",
    "    if prediction == true_label:\n",
    "        correct_predictions += 1\n",
    "\n",
    "accuracy = correct_predictions / total_predictions * 100\n",
    "print(\"Pourcentage de bonnes réponses : {:.2f}%\".format(accuracy))"
   ]
  },
  {
   "cell_type": "markdown",
   "metadata": {
    "tags": []
   },
   "source": [
    "## 4. Aller plus loin : Classification multiple"
   ]
  },
  {
   "cell_type": "markdown",
   "metadata": {},
   "source": [
    "### a. Discussion"
   ]
  },
  {
   "cell_type": "markdown",
   "metadata": {
    "tags": []
   },
   "source": [
    "On a vu comment classer des données à deux étiquettes. Mais en pratique il y a souvent un plus grand nombre de classes : par exemple MNIST peut contenir jusqu'à 10 classes: les chiffres de 0 à 9! Un tel classifieur vous est par exemple mis à disposition sur [ce site](https://mco-mnist-draw-rwpxka3zaa-ue.a.run.app/), qui vous permet de dessiner en ligne un chiffre et vous fournira en temps réel une estimation de la probabilité d'appartenance à une classe de chiffre.\n",
    "\n",
    "Je vous propose dans cette section de construire un tel classifieur. Notre stratégie va consister à réunir plusieurs classifieurs à deux classes (que vous avez appris à construire dans la section précédente) pour construire un classifieur à 10 classes. \n",
    "Plus précisément notre stratégie sera:\n",
    "\n",
    "- Couper le jeu de données en deux classes : les 0 et le reste (1, ..., 9). On produit alors un classifieur qui sera capable de savoir si une image est un zéro, ou non.\n",
    "- On refait la même chose en isolant cette fois 1 versus le reste (0,2, ..., 9). Et ainsi de suite. Ce qui nous donnera 10 classifieurs, chacun répondant à la question \"est-ce que cette image est un 0? un 1? etc.\n",
    "- Etant donné une nouvelle image, on la passe dans les 10 classifieurs, et en fonction des 10 prédictions on prend une décision.\n",
    "\n",
    "\n"
   ]
  },
  {
   "cell_type": "markdown",
   "metadata": {
    "tags": []
   },
   "source": [
    "### b. Manipulation des données et construction du premier classifieur"
   ]
  },
  {
   "cell_type": "code",
   "execution_count": 495,
   "metadata": {},
   "outputs": [],
   "source": [
    "import numpy as np\n",
    "import matplotlib.pyplot as plt\n",
    "import sklearn.datasets\n",
    "import sklearn.model_selection\n",
    "from scipy.optimize import LinearConstraint, minimize"
   ]
  },
  {
   "cell_type": "code",
   "execution_count": 496,
   "metadata": {},
   "outputs": [],
   "source": [
    "plt.rcParams['xtick.bottom'] = True\n",
    "plt.rcParams['ytick.left'] = True\n",
    "plt.rcParams['xtick.labelbottom'] = True\n",
    "plt.rcParams['ytick.labelleft'] = True\n",
    "plt.rcParams['image.cmap'] = 'gray_r'"
   ]
  },
  {
   "cell_type": "code",
   "execution_count": 497,
   "metadata": {},
   "outputs": [],
   "source": [
    "digits = sklearn.datasets.load_digits() # Importe un jeu de données à classer (10 classes)\n",
    "digits.data = digits.data*1/np.max(digits.data) # normalise : coeffs dans [0,1]\n",
    "X, X_test, Y, Y_test = sklearn.model_selection.train_test_split( # On coupe le jeu de données en deux\n",
    "                        digits.data, digits.target, train_size=0.25, shuffle=True)\n",
    "etiquettes_original = Y"
   ]
  },
  {
   "cell_type": "code",
   "execution_count": 498,
   "metadata": {},
   "outputs": [
    {
     "data": {
      "text/plain": [
       "1348"
      ]
     },
     "execution_count": 498,
     "metadata": {},
     "output_type": "execute_result"
    }
   ],
   "source": [
    "len(Y_test)"
   ]
  },
  {
   "cell_type": "markdown",
   "metadata": {},
   "source": [
    "**1)** Déterminer `m` le nombre de données contenues dans `X`, et `n` la dimension de ces données."
   ]
  },
  {
   "cell_type": "code",
   "execution_count": 499,
   "metadata": {},
   "outputs": [
    {
     "data": {
      "text/plain": [
       "449"
      ]
     },
     "execution_count": 499,
     "metadata": {},
     "output_type": "execute_result"
    }
   ],
   "source": [
    "m, n = X.shape\n",
    "m"
   ]
  },
  {
   "cell_type": "markdown",
   "metadata": {},
   "source": [
    "**2)** Vérifier que `Y` contient bien des étiquettes allant de 0 à 9. Dans le but de classer les 0 vs. le reste, créez un nouveau vecteur d'étiquettes `Y_temp` qui vaut +1 pour les 0, et -1 pour le reste. Faites bien attention à ne pas modifier le `Y` original!"
   ]
  },
  {
   "cell_type": "code",
   "execution_count": 500,
   "metadata": {},
   "outputs": [
    {
     "data": {
      "text/plain": [
       "array([0, 1, 2, 3, 4, 5, 6, 7, 8, 9])"
      ]
     },
     "execution_count": 500,
     "metadata": {},
     "output_type": "execute_result"
    }
   ],
   "source": [
    "unique_labels = np.unique(Y)\n",
    "unique_labels_sorted = np.sort(unique_labels)\n",
    "unique_labels"
   ]
  },
  {
   "cell_type": "code",
   "execution_count": 501,
   "metadata": {},
   "outputs": [
    {
     "data": {
      "text/plain": [
       "array([-1, -1, -1, -1, -1, -1,  1, -1, -1, -1, -1, -1, -1, -1, -1, -1, -1,\n",
       "       -1, -1, -1, -1, -1, -1, -1, -1, -1, -1, -1, -1, -1, -1, -1, -1, -1,\n",
       "       -1,  1, -1, -1, -1, -1, -1,  1, -1, -1, -1, -1,  1, -1, -1, -1, -1,\n",
       "       -1, -1,  1, -1, -1, -1, -1, -1,  1, -1, -1, -1,  1, -1,  1, -1, -1,\n",
       "       -1, -1, -1,  1, -1, -1, -1, -1, -1, -1,  1, -1, -1, -1, -1, -1, -1,\n",
       "        1, -1,  1, -1, -1, -1, -1, -1, -1, -1, -1, -1, -1, -1, -1, -1, -1,\n",
       "       -1, -1, -1, -1, -1, -1, -1, -1, -1, -1, -1, -1, -1, -1, -1, -1, -1,\n",
       "       -1, -1,  1, -1, -1, -1, -1, -1, -1, -1, -1, -1,  1, -1,  1, -1, -1,\n",
       "       -1, -1, -1, -1, -1, -1, -1, -1, -1, -1, -1, -1, -1, -1,  1, -1, -1,\n",
       "       -1, -1, -1, -1, -1, -1, -1, -1, -1,  1, -1,  1, -1, -1, -1, -1, -1,\n",
       "       -1, -1, -1, -1, -1, -1, -1, -1, -1, -1, -1, -1,  1, -1, -1, -1, -1,\n",
       "       -1, -1, -1, -1, -1, -1, -1, -1, -1, -1, -1, -1, -1, -1, -1, -1, -1,\n",
       "       -1, -1, -1, -1,  1, -1, -1,  1, -1, -1, -1,  1, -1, -1, -1, -1, -1,\n",
       "       -1, -1, -1, -1,  1, -1, -1, -1, -1, -1, -1,  1, -1, -1, -1, -1, -1,\n",
       "       -1,  1, -1, -1, -1, -1, -1, -1, -1, -1, -1, -1, -1, -1, -1, -1, -1,\n",
       "       -1, -1, -1, -1, -1, -1, -1, -1, -1,  1, -1, -1, -1, -1, -1, -1, -1,\n",
       "       -1, -1, -1, -1, -1, -1,  1,  1, -1, -1, -1, -1, -1, -1, -1,  1, -1,\n",
       "        1, -1, -1,  1, -1, -1, -1, -1, -1, -1, -1, -1, -1, -1, -1, -1, -1,\n",
       "       -1, -1, -1, -1, -1, -1, -1, -1, -1, -1, -1, -1, -1, -1, -1, -1, -1,\n",
       "       -1, -1, -1, -1,  1, -1, -1,  1, -1, -1,  1,  1, -1, -1, -1,  1, -1,\n",
       "       -1, -1, -1, -1, -1, -1, -1, -1, -1, -1, -1, -1, -1, -1, -1, -1, -1,\n",
       "       -1, -1,  1, -1, -1, -1, -1, -1, -1, -1, -1, -1, -1, -1, -1, -1, -1,\n",
       "       -1, -1, -1, -1, -1,  1, -1, -1, -1, -1, -1, -1,  1, -1, -1, -1, -1,\n",
       "       -1, -1, -1, -1, -1, -1, -1, -1, -1, -1, -1, -1, -1, -1, -1,  1, -1,\n",
       "       -1, -1, -1, -1, -1,  1, -1, -1, -1, -1, -1, -1, -1, -1, -1, -1, -1,\n",
       "       -1, -1, -1, -1,  1, -1, -1, -1, -1, -1, -1, -1, -1, -1, -1, -1, -1,\n",
       "       -1, -1, -1, -1,  1, -1, -1])"
      ]
     },
     "execution_count": 501,
     "metadata": {},
     "output_type": "execute_result"
    }
   ],
   "source": [
    "Y_temp = np.where(Y == 0, 1, -1)\n",
    "Y_temp"
   ]
  },
  {
   "cell_type": "markdown",
   "metadata": {},
   "source": [
    "**3)** En vous inspirant de ce que vous avez fait à la section précédente:\n",
    "\n",
    "- définissez le problème de SVM associé au problème de classifier 0 vs. le reste\n",
    "- résolvez-le, afin d'obtenir `w` un vecteur de paramètres définissant un hyperplan qui sépare les 0 des autres chiffres"
   ]
  },
  {
   "cell_type": "code",
   "execution_count": 502,
   "metadata": {},
   "outputs": [],
   "source": [
    "from scipy.optimize import LinearConstraint, minimize\n",
    "\n",
    "infini = np.inf * np.ones(m)\n",
    "e = np.ones(m)\n",
    "Phi = np.hstack((Y_temp.reshape((-1, 1)) * X, Y_temp.reshape((-1, 1))))\n",
    "\n",
    "def objectif(w):\n",
    "    a = w[:-1]\n",
    "    return np.linalg.norm(a) ** 2\n",
    "\n",
    "LinearConstraint = LinearConstraint(Phi, e, infini)\n",
    "\n",
    "w_sol_scipy = minimize(\n",
    "    fun=objectif,\n",
    "    constraints=LinearConstraint,\n",
    "    x0=np.random.randn(n + 1),\n",
    ").x\n",
    "\n",
    "a = w_sol_scipy[:-1]\n",
    "b = w_sol_scipy[-1]\n",
    "\n",
    "w = (a, b)\n",
    "\n"
   ]
  },
  {
   "cell_type": "markdown",
   "metadata": {},
   "source": [
    "**4)** Prenez quelques examples dans `X` et vérifiez que `w` définit un hyperplan qui sépare bien les 0 du reste (cf. section précédente). Rappelez-vous que les vraies étiquettes sont contenues dans `Y`."
   ]
  },
  {
   "cell_type": "code",
   "execution_count": 503,
   "metadata": {},
   "outputs": [
    {
     "name": "stdout",
     "output_type": "stream",
     "text": [
      "test de notre classifieur sur tous les X avec etiquette 0\n",
      "Prédiction correcte!\n",
      "Prédiction correcte!\n",
      "Prédiction correcte!\n",
      "Prédiction correcte!\n",
      "Prédiction correcte!\n",
      "Prédiction correcte!\n",
      "Prédiction correcte!\n",
      "Prédiction correcte!\n",
      "Prédiction correcte!\n",
      "Prédiction correcte!\n",
      "Prédiction correcte!\n",
      "Prédiction correcte!\n",
      "Prédiction correcte!\n",
      "Prédiction correcte!\n",
      "Prédiction correcte!\n",
      "Prédiction correcte!\n",
      "Prédiction correcte!\n",
      "Prédiction correcte!\n",
      "Prédiction correcte!\n",
      "Prédiction correcte!\n",
      "Prédiction correcte!\n",
      "Prédiction correcte!\n",
      "Prédiction correcte!\n",
      "Prédiction correcte!\n",
      "Prédiction correcte!\n",
      "Prédiction correcte!\n",
      "Prédiction correcte!\n",
      "Prédiction correcte!\n",
      "Prédiction correcte!\n",
      "Prédiction correcte!\n",
      "Prédiction correcte!\n",
      "Prédiction correcte!\n",
      "Prédiction correcte!\n",
      "Prédiction correcte!\n",
      "Prédiction correcte!\n",
      "Prédiction correcte!\n",
      "Prédiction correcte!\n",
      "Prédiction correcte!\n",
      "Prédiction correcte!\n",
      "Prédiction correcte!\n",
      "Prédiction correcte!\n",
      "Prédiction correcte!\n",
      "Prédiction correcte!\n"
     ]
    }
   ],
   "source": [
    "index_values_equals_to_zero = [index for index,value in enumerate(Y_temp) if value==1 ]\n",
    "\n",
    "print(\"test de notre classifieur sur tous les X avec etiquette 0\")\n",
    "for v in index_values_equals_to_zero:\n",
    "    \n",
    "    image = X[v]\n",
    "    \n",
    "    prediction = classifieur(image,w)\n",
    "\n",
    "    # Obtenir l'étiquette réelle\n",
    "    true_label = Y_temp[v]\n",
    "\n",
    "    if prediction == true_label:\n",
    "        print(\"Prédiction correcte!\")\n",
    "    else:\n",
    "        print(\"Prédiction incorrecte!\")\n"
   ]
  },
  {
   "cell_type": "markdown",
   "metadata": {
    "tags": []
   },
   "source": [
    "### c. Construction d'un classifieur général"
   ]
  },
  {
   "cell_type": "markdown",
   "metadata": {},
   "source": [
    "**1)** Ici vous devrez reproduire ce que vous venez de faire :\n",
    "\n",
    "- Pour chaque chiffre 'cible' entre 0 et 9:\n",
    "  - Définir un vecteur d'étiquettes décrivant un problème de classification 'cible' vs. le reste\n",
    "  - Définir le problème SVM associé et le résoudre, ce qui vous donnera un vecteurs de paramètres w\n",
    "  - Ranger chacun de ces vecteurs $w \\in \\mathbb{R}^{n+1}$ comme ligne d'une matrice $W \\in \\mathcal{M}_{10, n+1}(\\mathbb{R})$"
   ]
  },
  {
   "cell_type": "code",
   "execution_count": 504,
   "metadata": {},
   "outputs": [],
   "source": [
    "#Y_temp = np.where(Y == 0, 1, -1)"
   ]
  },
  {
   "cell_type": "code",
   "execution_count": 505,
   "metadata": {},
   "outputs": [],
   "source": [
    "num_classes = np.max(Y) + 1"
   ]
  },
  {
   "cell_type": "code",
   "execution_count": 506,
   "metadata": {},
   "outputs": [
    {
     "data": {
      "text/plain": [
       "{0: array([-1, -1, -1, -1, -1, -1,  1, -1, -1, -1, -1, -1, -1, -1, -1, -1, -1,\n",
       "        -1, -1, -1, -1, -1, -1, -1, -1, -1, -1, -1, -1, -1, -1, -1, -1, -1,\n",
       "        -1,  1, -1, -1, -1, -1, -1,  1, -1, -1, -1, -1,  1, -1, -1, -1, -1,\n",
       "        -1, -1,  1, -1, -1, -1, -1, -1,  1, -1, -1, -1,  1, -1,  1, -1, -1,\n",
       "        -1, -1, -1,  1, -1, -1, -1, -1, -1, -1,  1, -1, -1, -1, -1, -1, -1,\n",
       "         1, -1,  1, -1, -1, -1, -1, -1, -1, -1, -1, -1, -1, -1, -1, -1, -1,\n",
       "        -1, -1, -1, -1, -1, -1, -1, -1, -1, -1, -1, -1, -1, -1, -1, -1, -1,\n",
       "        -1, -1,  1, -1, -1, -1, -1, -1, -1, -1, -1, -1,  1, -1,  1, -1, -1,\n",
       "        -1, -1, -1, -1, -1, -1, -1, -1, -1, -1, -1, -1, -1, -1,  1, -1, -1,\n",
       "        -1, -1, -1, -1, -1, -1, -1, -1, -1,  1, -1,  1, -1, -1, -1, -1, -1,\n",
       "        -1, -1, -1, -1, -1, -1, -1, -1, -1, -1, -1, -1,  1, -1, -1, -1, -1,\n",
       "        -1, -1, -1, -1, -1, -1, -1, -1, -1, -1, -1, -1, -1, -1, -1, -1, -1,\n",
       "        -1, -1, -1, -1,  1, -1, -1,  1, -1, -1, -1,  1, -1, -1, -1, -1, -1,\n",
       "        -1, -1, -1, -1,  1, -1, -1, -1, -1, -1, -1,  1, -1, -1, -1, -1, -1,\n",
       "        -1,  1, -1, -1, -1, -1, -1, -1, -1, -1, -1, -1, -1, -1, -1, -1, -1,\n",
       "        -1, -1, -1, -1, -1, -1, -1, -1, -1,  1, -1, -1, -1, -1, -1, -1, -1,\n",
       "        -1, -1, -1, -1, -1, -1,  1,  1, -1, -1, -1, -1, -1, -1, -1,  1, -1,\n",
       "         1, -1, -1,  1, -1, -1, -1, -1, -1, -1, -1, -1, -1, -1, -1, -1, -1,\n",
       "        -1, -1, -1, -1, -1, -1, -1, -1, -1, -1, -1, -1, -1, -1, -1, -1, -1,\n",
       "        -1, -1, -1, -1,  1, -1, -1,  1, -1, -1,  1,  1, -1, -1, -1,  1, -1,\n",
       "        -1, -1, -1, -1, -1, -1, -1, -1, -1, -1, -1, -1, -1, -1, -1, -1, -1,\n",
       "        -1, -1,  1, -1, -1, -1, -1, -1, -1, -1, -1, -1, -1, -1, -1, -1, -1,\n",
       "        -1, -1, -1, -1, -1,  1, -1, -1, -1, -1, -1, -1,  1, -1, -1, -1, -1,\n",
       "        -1, -1, -1, -1, -1, -1, -1, -1, -1, -1, -1, -1, -1, -1, -1,  1, -1,\n",
       "        -1, -1, -1, -1, -1,  1, -1, -1, -1, -1, -1, -1, -1, -1, -1, -1, -1,\n",
       "        -1, -1, -1, -1,  1, -1, -1, -1, -1, -1, -1, -1, -1, -1, -1, -1, -1,\n",
       "        -1, -1, -1, -1,  1, -1, -1]),\n",
       " 1: array([-1, -1, -1,  1, -1, -1, -1, -1, -1, -1, -1, -1, -1, -1, -1, -1,  1,\n",
       "        -1, -1, -1,  1, -1, -1, -1, -1, -1, -1, -1, -1, -1, -1, -1, -1, -1,\n",
       "        -1, -1, -1,  1, -1, -1, -1, -1, -1, -1, -1, -1, -1, -1,  1, -1, -1,\n",
       "        -1, -1, -1,  1,  1, -1, -1, -1, -1,  1, -1, -1, -1, -1, -1, -1, -1,\n",
       "        -1,  1, -1, -1, -1, -1, -1,  1, -1, -1, -1, -1, -1, -1, -1, -1, -1,\n",
       "        -1, -1, -1, -1, -1, -1, -1, -1, -1, -1, -1,  1, -1,  1, -1, -1, -1,\n",
       "        -1, -1, -1, -1, -1, -1, -1, -1, -1,  1, -1, -1, -1, -1, -1, -1, -1,\n",
       "        -1,  1, -1, -1, -1, -1, -1,  1, -1, -1, -1, -1, -1, -1, -1, -1,  1,\n",
       "        -1,  1, -1, -1, -1,  1, -1, -1, -1, -1, -1, -1, -1, -1, -1, -1, -1,\n",
       "        -1,  1, -1, -1,  1, -1, -1, -1, -1, -1, -1, -1, -1, -1, -1, -1, -1,\n",
       "        -1, -1, -1, -1, -1, -1, -1, -1, -1, -1, -1, -1, -1, -1, -1, -1,  1,\n",
       "        -1,  1, -1, -1, -1, -1,  1, -1, -1, -1, -1, -1, -1, -1, -1, -1, -1,\n",
       "        -1, -1, -1, -1, -1,  1, -1, -1, -1, -1, -1, -1, -1, -1, -1, -1, -1,\n",
       "         1, -1, -1, -1, -1, -1, -1, -1, -1, -1, -1, -1, -1, -1, -1, -1, -1,\n",
       "        -1, -1, -1, -1, -1, -1, -1, -1, -1, -1, -1, -1, -1, -1, -1, -1, -1,\n",
       "        -1, -1, -1, -1, -1, -1,  1, -1, -1, -1, -1, -1, -1, -1, -1, -1, -1,\n",
       "        -1, -1, -1, -1, -1,  1, -1, -1, -1, -1, -1, -1, -1, -1, -1, -1, -1,\n",
       "        -1, -1,  1, -1, -1, -1,  1, -1, -1,  1, -1, -1, -1, -1, -1, -1, -1,\n",
       "        -1, -1, -1,  1, -1,  1, -1, -1, -1, -1, -1, -1, -1, -1, -1, -1, -1,\n",
       "        -1, -1, -1, -1, -1, -1, -1, -1, -1, -1, -1, -1,  1, -1, -1, -1, -1,\n",
       "        -1, -1, -1, -1, -1, -1, -1, -1,  1, -1, -1, -1, -1, -1, -1, -1, -1,\n",
       "        -1, -1, -1, -1, -1, -1, -1, -1, -1,  1, -1, -1, -1, -1, -1, -1, -1,\n",
       "         1, -1, -1, -1, -1, -1, -1, -1, -1, -1, -1,  1, -1,  1, -1, -1, -1,\n",
       "        -1, -1, -1, -1, -1, -1,  1, -1, -1, -1, -1, -1, -1, -1, -1, -1, -1,\n",
       "        -1, -1, -1, -1, -1, -1, -1, -1, -1,  1, -1, -1, -1, -1, -1, -1, -1,\n",
       "        -1, -1, -1, -1, -1, -1, -1, -1,  1, -1, -1, -1,  1, -1, -1, -1, -1,\n",
       "        -1, -1, -1, -1, -1, -1, -1]),\n",
       " 2: array([ 1, -1, -1, -1, -1, -1, -1, -1, -1, -1, -1, -1, -1, -1, -1, -1, -1,\n",
       "        -1, -1, -1, -1, -1, -1, -1,  1, -1, -1, -1, -1, -1, -1, -1, -1, -1,\n",
       "        -1, -1,  1, -1, -1, -1, -1, -1, -1,  1,  1, -1, -1, -1, -1, -1, -1,\n",
       "        -1, -1, -1, -1, -1, -1, -1, -1, -1, -1, -1, -1, -1, -1, -1, -1,  1,\n",
       "        -1, -1, -1, -1, -1, -1, -1, -1, -1, -1, -1, -1, -1, -1, -1, -1, -1,\n",
       "        -1, -1, -1, -1, -1, -1, -1, -1, -1, -1, -1, -1,  1, -1, -1, -1, -1,\n",
       "        -1, -1, -1, -1, -1, -1, -1, -1, -1, -1, -1, -1, -1, -1, -1, -1, -1,\n",
       "        -1, -1, -1, -1, -1, -1, -1, -1, -1, -1,  1, -1, -1, -1, -1, -1, -1,\n",
       "        -1, -1, -1, -1, -1, -1, -1, -1, -1,  1, -1, -1, -1, -1, -1, -1, -1,\n",
       "        -1, -1,  1, -1, -1,  1,  1, -1, -1, -1, -1, -1, -1, -1, -1, -1, -1,\n",
       "        -1, -1, -1, -1, -1, -1, -1,  1, -1, -1, -1,  1, -1, -1, -1, -1, -1,\n",
       "        -1, -1, -1, -1, -1, -1, -1, -1, -1, -1, -1, -1, -1, -1, -1, -1, -1,\n",
       "        -1,  1,  1, -1, -1, -1, -1, -1, -1,  1, -1, -1, -1, -1, -1, -1,  1,\n",
       "        -1, -1,  1, -1, -1,  1, -1, -1,  1, -1, -1, -1, -1, -1,  1, -1,  1,\n",
       "         1, -1, -1, -1, -1, -1, -1, -1, -1, -1, -1,  1, -1,  1, -1, -1, -1,\n",
       "         1, -1, -1, -1, -1, -1, -1, -1, -1, -1, -1, -1, -1, -1,  1, -1, -1,\n",
       "        -1, -1, -1,  1, -1, -1, -1, -1, -1, -1, -1, -1, -1, -1, -1, -1, -1,\n",
       "        -1, -1, -1, -1, -1, -1, -1, -1, -1, -1, -1, -1, -1, -1, -1, -1, -1,\n",
       "        -1, -1, -1, -1, -1, -1, -1, -1, -1, -1, -1, -1, -1, -1, -1, -1, -1,\n",
       "        -1, -1, -1, -1, -1, -1,  1, -1, -1, -1, -1, -1, -1, -1, -1, -1, -1,\n",
       "        -1, -1, -1, -1, -1, -1, -1, -1, -1, -1, -1, -1, -1, -1, -1, -1, -1,\n",
       "        -1, -1, -1, -1, -1,  1, -1, -1, -1, -1, -1,  1,  1,  1, -1, -1, -1,\n",
       "        -1, -1, -1, -1, -1, -1, -1, -1, -1, -1, -1, -1, -1, -1, -1, -1, -1,\n",
       "         1,  1, -1, -1, -1,  1, -1, -1, -1, -1, -1, -1, -1, -1, -1, -1,  1,\n",
       "        -1,  1,  1, -1, -1, -1,  1, -1, -1, -1, -1, -1, -1, -1, -1, -1, -1,\n",
       "        -1, -1, -1, -1, -1, -1, -1,  1, -1, -1, -1, -1, -1, -1, -1, -1,  1,\n",
       "        -1, -1, -1, -1, -1, -1, -1]),\n",
       " 3: array([-1,  1,  1, -1, -1, -1, -1, -1, -1, -1,  1, -1, -1, -1, -1, -1, -1,\n",
       "        -1, -1,  1, -1, -1, -1,  1, -1, -1,  1, -1, -1, -1,  1, -1, -1, -1,\n",
       "        -1, -1, -1, -1,  1, -1, -1, -1, -1, -1, -1,  1, -1, -1, -1, -1, -1,\n",
       "        -1,  1, -1, -1, -1, -1, -1, -1, -1, -1, -1, -1, -1, -1, -1, -1, -1,\n",
       "        -1, -1, -1, -1, -1, -1, -1, -1, -1, -1, -1, -1,  1, -1, -1, -1,  1,\n",
       "        -1, -1, -1, -1, -1, -1, -1, -1, -1, -1, -1, -1, -1, -1,  1, -1, -1,\n",
       "        -1,  1, -1, -1, -1, -1, -1, -1,  1, -1,  1, -1, -1, -1, -1, -1, -1,\n",
       "        -1, -1, -1, -1, -1,  1, -1, -1, -1, -1, -1, -1, -1,  1, -1, -1, -1,\n",
       "         1, -1, -1, -1, -1, -1, -1, -1, -1, -1, -1,  1, -1, -1, -1, -1, -1,\n",
       "        -1, -1, -1, -1, -1, -1, -1, -1, -1, -1, -1, -1, -1, -1, -1,  1, -1,\n",
       "         1,  1, -1, -1, -1, -1, -1, -1, -1, -1, -1, -1, -1, -1, -1, -1, -1,\n",
       "        -1, -1,  1, -1, -1, -1, -1, -1, -1, -1,  1, -1, -1, -1, -1, -1, -1,\n",
       "        -1, -1, -1, -1, -1, -1, -1, -1,  1, -1, -1, -1, -1, -1,  1, -1, -1,\n",
       "        -1,  1, -1, -1, -1, -1, -1, -1, -1, -1, -1, -1, -1, -1, -1, -1, -1,\n",
       "        -1, -1, -1, -1, -1, -1, -1, -1, -1, -1, -1, -1, -1, -1, -1, -1, -1,\n",
       "        -1, -1, -1, -1, -1, -1, -1, -1, -1, -1,  1,  1, -1, -1, -1, -1, -1,\n",
       "        -1, -1, -1, -1, -1, -1, -1, -1,  1, -1, -1, -1, -1, -1, -1, -1, -1,\n",
       "        -1, -1, -1, -1, -1, -1, -1, -1, -1, -1, -1, -1, -1,  1,  1, -1, -1,\n",
       "        -1,  1, -1, -1, -1, -1, -1, -1, -1, -1, -1, -1, -1, -1, -1, -1, -1,\n",
       "        -1,  1, -1, -1, -1, -1, -1, -1, -1, -1, -1, -1, -1, -1, -1, -1, -1,\n",
       "        -1, -1,  1, -1, -1, -1,  1, -1, -1,  1, -1, -1, -1,  1, -1, -1, -1,\n",
       "        -1, -1, -1, -1, -1, -1, -1, -1, -1, -1, -1, -1, -1, -1, -1, -1, -1,\n",
       "        -1, -1,  1, -1, -1, -1,  1, -1, -1, -1, -1, -1, -1, -1, -1, -1, -1,\n",
       "        -1, -1, -1, -1, -1, -1, -1, -1, -1, -1, -1, -1,  1, -1, -1, -1, -1,\n",
       "        -1, -1, -1, -1, -1, -1, -1, -1, -1, -1, -1, -1,  1, -1,  1, -1,  1,\n",
       "        -1, -1, -1, -1, -1, -1, -1, -1, -1, -1, -1, -1, -1,  1, -1, -1, -1,\n",
       "         1,  1, -1,  1, -1, -1, -1]),\n",
       " 4: array([-1, -1, -1, -1, -1, -1, -1, -1, -1, -1, -1, -1,  1, -1, -1, -1, -1,\n",
       "        -1,  1, -1, -1, -1, -1, -1, -1, -1, -1, -1, -1, -1, -1,  1, -1, -1,\n",
       "        -1, -1, -1, -1, -1,  1, -1, -1, -1, -1, -1, -1, -1, -1, -1, -1, -1,\n",
       "        -1, -1, -1, -1, -1, -1, -1, -1, -1, -1, -1,  1, -1, -1, -1,  1, -1,\n",
       "        -1, -1,  1, -1, -1, -1, -1, -1, -1, -1, -1, -1, -1, -1,  1, -1, -1,\n",
       "        -1, -1, -1,  1,  1, -1, -1, -1, -1, -1, -1, -1, -1, -1, -1, -1, -1,\n",
       "        -1, -1, -1, -1, -1, -1,  1, -1, -1, -1, -1, -1, -1, -1,  1, -1, -1,\n",
       "         1, -1, -1,  1, -1, -1, -1, -1, -1, -1, -1,  1, -1, -1, -1, -1, -1,\n",
       "        -1, -1, -1, -1,  1, -1, -1, -1, -1, -1, -1, -1, -1, -1, -1, -1, -1,\n",
       "        -1, -1, -1,  1, -1, -1, -1, -1, -1, -1, -1, -1, -1,  1, -1, -1, -1,\n",
       "        -1, -1, -1,  1,  1, -1,  1, -1, -1, -1, -1, -1, -1,  1, -1, -1, -1,\n",
       "         1, -1, -1, -1, -1, -1, -1, -1, -1, -1, -1,  1,  1, -1,  1, -1, -1,\n",
       "        -1, -1, -1, -1, -1, -1, -1, -1, -1, -1, -1, -1,  1, -1, -1,  1, -1,\n",
       "        -1, -1, -1, -1, -1, -1, -1,  1, -1, -1, -1, -1, -1, -1, -1, -1, -1,\n",
       "        -1, -1, -1, -1,  1, -1, -1,  1, -1, -1, -1, -1, -1, -1, -1, -1, -1,\n",
       "        -1, -1, -1, -1,  1, -1, -1, -1, -1, -1, -1, -1,  1, -1, -1,  1,  1,\n",
       "        -1, -1, -1, -1, -1, -1, -1, -1, -1, -1, -1, -1, -1, -1, -1, -1, -1,\n",
       "        -1, -1, -1, -1, -1, -1, -1, -1,  1, -1,  1, -1, -1, -1, -1, -1, -1,\n",
       "        -1, -1, -1, -1,  1, -1, -1,  1, -1, -1,  1, -1, -1, -1, -1, -1,  1,\n",
       "        -1, -1, -1, -1, -1, -1, -1, -1, -1,  1, -1, -1, -1, -1, -1, -1, -1,\n",
       "        -1, -1, -1,  1, -1, -1, -1, -1, -1, -1, -1, -1, -1, -1,  1,  1, -1,\n",
       "        -1, -1, -1, -1, -1, -1, -1, -1, -1, -1, -1, -1, -1, -1,  1, -1, -1,\n",
       "        -1, -1, -1, -1,  1, -1, -1, -1, -1, -1, -1, -1, -1, -1, -1, -1, -1,\n",
       "        -1, -1, -1,  1, -1, -1, -1,  1, -1, -1, -1, -1, -1, -1, -1, -1, -1,\n",
       "         1, -1, -1,  1, -1, -1, -1, -1, -1, -1, -1, -1, -1, -1, -1, -1, -1,\n",
       "        -1, -1, -1, -1, -1, -1, -1, -1, -1, -1,  1, -1, -1, -1, -1, -1, -1,\n",
       "        -1, -1, -1, -1, -1, -1, -1]),\n",
       " 5: array([-1, -1, -1, -1, -1, -1, -1, -1, -1, -1, -1, -1, -1,  1, -1, -1, -1,\n",
       "        -1, -1, -1, -1, -1,  1, -1, -1, -1, -1, -1, -1, -1, -1, -1, -1, -1,\n",
       "        -1, -1, -1, -1, -1, -1, -1, -1, -1, -1, -1, -1, -1, -1, -1, -1, -1,\n",
       "        -1, -1, -1, -1, -1, -1, -1, -1, -1, -1, -1, -1, -1, -1, -1, -1, -1,\n",
       "        -1, -1, -1, -1,  1,  1,  1, -1,  1, -1, -1, -1, -1, -1, -1, -1, -1,\n",
       "        -1, -1, -1, -1, -1, -1, -1,  1, -1, -1, -1, -1, -1, -1, -1, -1, -1,\n",
       "        -1, -1,  1, -1, -1, -1, -1, -1, -1, -1, -1, -1, -1, -1, -1, -1,  1,\n",
       "        -1, -1, -1, -1, -1, -1, -1, -1,  1, -1, -1, -1, -1, -1, -1, -1, -1,\n",
       "        -1, -1, -1, -1, -1, -1, -1, -1, -1, -1,  1, -1, -1, -1, -1, -1, -1,\n",
       "        -1, -1, -1, -1, -1, -1, -1, -1, -1, -1,  1, -1, -1, -1, -1, -1, -1,\n",
       "        -1, -1, -1, -1, -1,  1, -1, -1, -1, -1, -1, -1, -1, -1, -1, -1, -1,\n",
       "        -1, -1, -1, -1,  1,  1, -1, -1, -1, -1, -1, -1, -1, -1, -1, -1, -1,\n",
       "         1, -1, -1, -1, -1, -1, -1, -1, -1, -1, -1, -1, -1, -1, -1, -1, -1,\n",
       "        -1, -1, -1, -1, -1, -1, -1, -1, -1, -1, -1, -1, -1, -1, -1, -1, -1,\n",
       "        -1, -1, -1, -1, -1,  1, -1, -1, -1, -1,  1, -1,  1, -1, -1, -1, -1,\n",
       "        -1, -1, -1, -1, -1, -1, -1, -1, -1, -1, -1, -1, -1, -1, -1, -1, -1,\n",
       "        -1, -1, -1, -1,  1, -1, -1, -1, -1, -1,  1, -1, -1,  1, -1, -1, -1,\n",
       "        -1, -1, -1, -1,  1, -1, -1, -1, -1, -1, -1, -1, -1, -1, -1, -1, -1,\n",
       "        -1, -1, -1, -1, -1, -1, -1, -1, -1, -1, -1, -1, -1, -1,  1, -1, -1,\n",
       "        -1, -1, -1, -1, -1, -1, -1, -1, -1, -1, -1, -1, -1, -1, -1, -1, -1,\n",
       "        -1,  1, -1, -1, -1, -1, -1, -1, -1, -1,  1, -1,  1, -1, -1, -1, -1,\n",
       "        -1, -1, -1, -1,  1, -1, -1, -1, -1, -1, -1, -1, -1, -1, -1, -1, -1,\n",
       "        -1, -1, -1, -1, -1, -1, -1,  1, -1,  1, -1, -1, -1, -1, -1, -1, -1,\n",
       "        -1, -1, -1, -1,  1, -1, -1, -1, -1, -1, -1, -1, -1, -1, -1, -1, -1,\n",
       "        -1, -1, -1, -1, -1, -1, -1, -1, -1, -1, -1, -1, -1, -1, -1, -1, -1,\n",
       "        -1, -1, -1, -1, -1, -1, -1, -1, -1, -1, -1,  1, -1, -1, -1, -1, -1,\n",
       "        -1, -1, -1, -1, -1, -1, -1]),\n",
       " 6: array([-1, -1, -1, -1, -1,  1, -1, -1, -1, -1, -1, -1, -1, -1, -1,  1, -1,\n",
       "         1, -1, -1, -1, -1, -1, -1, -1, -1, -1, -1,  1,  1, -1, -1, -1, -1,\n",
       "        -1, -1, -1, -1, -1, -1,  1, -1, -1, -1, -1, -1, -1, -1, -1,  1, -1,\n",
       "         1, -1, -1, -1, -1,  1, -1, -1, -1, -1, -1, -1, -1, -1, -1, -1, -1,\n",
       "         1, -1, -1, -1, -1, -1, -1, -1, -1,  1, -1,  1, -1, -1, -1, -1, -1,\n",
       "        -1,  1, -1, -1, -1, -1, -1, -1, -1, -1, -1, -1, -1, -1, -1, -1,  1,\n",
       "        -1, -1, -1, -1, -1, -1, -1, -1, -1, -1, -1, -1, -1, -1, -1, -1, -1,\n",
       "        -1, -1, -1, -1, -1, -1,  1, -1, -1, -1, -1, -1, -1, -1, -1,  1, -1,\n",
       "        -1, -1, -1, -1, -1, -1, -1, -1, -1, -1, -1, -1, -1, -1, -1, -1, -1,\n",
       "        -1, -1, -1, -1, -1, -1, -1, -1, -1, -1, -1, -1, -1, -1,  1, -1,  1,\n",
       "        -1, -1,  1, -1, -1, -1, -1, -1, -1,  1, -1, -1, -1, -1,  1, -1, -1,\n",
       "        -1, -1, -1, -1, -1, -1, -1, -1,  1, -1, -1, -1, -1, -1, -1,  1, -1,\n",
       "        -1, -1, -1, -1, -1, -1, -1, -1, -1, -1, -1, -1, -1, -1, -1, -1, -1,\n",
       "        -1, -1, -1, -1, -1, -1, -1, -1, -1, -1,  1, -1, -1,  1, -1,  1, -1,\n",
       "        -1, -1, -1,  1, -1, -1, -1, -1, -1, -1, -1, -1, -1, -1, -1, -1, -1,\n",
       "        -1,  1, -1, -1, -1, -1, -1, -1,  1, -1, -1, -1, -1,  1, -1, -1, -1,\n",
       "        -1,  1,  1, -1, -1, -1, -1, -1, -1, -1, -1, -1, -1, -1, -1, -1, -1,\n",
       "        -1, -1, -1, -1, -1, -1, -1, -1, -1, -1, -1, -1, -1, -1, -1, -1, -1,\n",
       "        -1, -1,  1, -1, -1, -1, -1, -1, -1, -1, -1, -1,  1, -1, -1,  1, -1,\n",
       "        -1, -1, -1, -1, -1, -1, -1, -1, -1, -1, -1, -1, -1,  1, -1, -1, -1,\n",
       "        -1, -1, -1, -1, -1, -1, -1, -1, -1, -1, -1, -1, -1, -1, -1, -1, -1,\n",
       "         1, -1, -1, -1, -1, -1, -1,  1, -1, -1,  1, -1, -1, -1, -1, -1,  1,\n",
       "        -1,  1, -1, -1, -1, -1, -1, -1, -1, -1, -1, -1, -1, -1, -1, -1, -1,\n",
       "        -1, -1, -1, -1, -1, -1, -1, -1, -1, -1, -1, -1, -1,  1, -1, -1, -1,\n",
       "        -1, -1, -1, -1, -1, -1, -1, -1,  1, -1, -1,  1, -1, -1, -1, -1, -1,\n",
       "        -1, -1, -1, -1, -1, -1, -1, -1, -1, -1, -1, -1, -1, -1, -1,  1, -1,\n",
       "        -1, -1, -1, -1, -1, -1,  1]),\n",
       " 7: array([-1, -1, -1, -1, -1, -1, -1,  1, -1, -1, -1,  1, -1, -1, -1, -1, -1,\n",
       "        -1, -1, -1, -1, -1, -1, -1, -1, -1, -1, -1, -1, -1, -1, -1, -1, -1,\n",
       "        -1, -1, -1, -1, -1, -1, -1, -1,  1, -1, -1, -1, -1,  1, -1, -1, -1,\n",
       "        -1, -1, -1, -1, -1, -1,  1,  1, -1, -1, -1, -1, -1, -1, -1, -1, -1,\n",
       "        -1, -1, -1, -1, -1, -1, -1, -1, -1, -1, -1, -1, -1,  1, -1, -1, -1,\n",
       "        -1, -1, -1, -1, -1,  1, -1, -1, -1, -1, -1, -1, -1, -1, -1,  1, -1,\n",
       "        -1, -1, -1, -1,  1, -1, -1, -1, -1, -1, -1,  1, -1, -1, -1, -1, -1,\n",
       "        -1, -1, -1, -1, -1, -1, -1, -1, -1,  1, -1, -1, -1, -1, -1, -1, -1,\n",
       "        -1, -1,  1,  1, -1, -1,  1, -1,  1, -1, -1, -1,  1,  1, -1, -1, -1,\n",
       "        -1, -1, -1, -1, -1, -1, -1, -1,  1, -1, -1, -1, -1, -1, -1, -1, -1,\n",
       "        -1, -1, -1, -1, -1, -1, -1, -1, -1, -1, -1, -1, -1, -1, -1, -1, -1,\n",
       "        -1, -1, -1,  1, -1, -1, -1, -1, -1,  1, -1, -1, -1,  1, -1, -1,  1,\n",
       "        -1, -1, -1, -1, -1, -1, -1, -1, -1, -1, -1, -1, -1, -1, -1, -1, -1,\n",
       "        -1, -1, -1,  1, -1, -1,  1, -1, -1, -1, -1, -1, -1, -1, -1, -1, -1,\n",
       "        -1, -1, -1, -1, -1, -1, -1, -1, -1, -1, -1, -1, -1, -1, -1,  1, -1,\n",
       "        -1, -1, -1,  1, -1, -1, -1,  1, -1, -1, -1, -1, -1, -1, -1, -1, -1,\n",
       "        -1, -1, -1, -1, -1, -1, -1, -1, -1, -1, -1, -1,  1, -1, -1, -1,  1,\n",
       "        -1, -1, -1, -1, -1, -1, -1,  1, -1, -1, -1, -1,  1, -1, -1,  1,  1,\n",
       "        -1, -1, -1, -1, -1, -1, -1, -1, -1, -1, -1, -1, -1, -1, -1, -1, -1,\n",
       "         1, -1, -1, -1, -1, -1, -1, -1,  1, -1, -1, -1, -1, -1, -1, -1, -1,\n",
       "        -1, -1, -1, -1, -1, -1, -1, -1, -1, -1, -1,  1, -1, -1, -1, -1, -1,\n",
       "        -1, -1, -1,  1, -1, -1, -1, -1,  1, -1, -1, -1, -1, -1, -1, -1, -1,\n",
       "        -1, -1, -1, -1, -1, -1, -1, -1,  1, -1,  1, -1, -1, -1, -1,  1, -1,\n",
       "        -1, -1, -1, -1, -1, -1, -1, -1, -1, -1, -1, -1, -1, -1, -1, -1, -1,\n",
       "        -1, -1, -1, -1, -1, -1, -1,  1, -1, -1,  1, -1, -1,  1, -1,  1, -1,\n",
       "         1, -1,  1, -1, -1, -1,  1, -1, -1,  1, -1, -1, -1, -1,  1, -1, -1,\n",
       "        -1, -1,  1, -1, -1, -1, -1]),\n",
       " 8: array([-1, -1, -1, -1, -1, -1, -1, -1,  1, -1, -1, -1, -1, -1, -1, -1, -1,\n",
       "        -1, -1, -1, -1,  1, -1, -1, -1, -1, -1, -1, -1, -1, -1, -1, -1,  1,\n",
       "        -1, -1, -1, -1, -1, -1, -1, -1, -1, -1, -1, -1, -1, -1, -1, -1, -1,\n",
       "        -1, -1, -1, -1, -1, -1, -1, -1, -1, -1,  1, -1, -1,  1, -1, -1, -1,\n",
       "        -1, -1, -1, -1, -1, -1, -1, -1, -1, -1, -1, -1, -1, -1, -1, -1, -1,\n",
       "        -1, -1, -1, -1, -1, -1, -1, -1, -1,  1,  1, -1, -1, -1, -1, -1, -1,\n",
       "         1, -1, -1,  1, -1,  1, -1, -1, -1, -1, -1, -1, -1, -1, -1,  1, -1,\n",
       "        -1, -1, -1, -1, -1, -1, -1, -1, -1, -1, -1, -1, -1, -1, -1, -1, -1,\n",
       "        -1, -1, -1, -1, -1, -1, -1,  1, -1, -1, -1, -1, -1, -1, -1, -1, -1,\n",
       "         1, -1, -1, -1, -1, -1, -1,  1, -1, -1, -1, -1, -1, -1, -1, -1, -1,\n",
       "        -1, -1, -1, -1, -1, -1, -1, -1,  1, -1, -1, -1, -1, -1, -1, -1, -1,\n",
       "        -1, -1, -1, -1, -1, -1, -1,  1, -1, -1, -1, -1, -1, -1, -1, -1, -1,\n",
       "        -1, -1, -1, -1, -1, -1, -1, -1, -1, -1,  1, -1, -1,  1, -1, -1, -1,\n",
       "        -1, -1, -1, -1, -1, -1, -1, -1, -1,  1, -1, -1, -1, -1, -1, -1, -1,\n",
       "        -1, -1,  1, -1, -1, -1,  1, -1,  1, -1, -1, -1, -1, -1,  1, -1,  1,\n",
       "        -1, -1,  1, -1, -1,  1, -1, -1, -1, -1, -1, -1, -1, -1, -1, -1, -1,\n",
       "         1, -1, -1, -1, -1, -1, -1, -1, -1,  1, -1, -1, -1, -1, -1, -1, -1,\n",
       "        -1, -1, -1, -1, -1,  1, -1, -1, -1, -1, -1, -1, -1, -1, -1, -1, -1,\n",
       "        -1, -1, -1, -1, -1, -1,  1, -1, -1, -1, -1,  1, -1,  1, -1, -1, -1,\n",
       "        -1, -1,  1, -1, -1,  1, -1, -1, -1, -1, -1, -1, -1, -1, -1, -1, -1,\n",
       "        -1, -1, -1, -1, -1, -1, -1,  1, -1, -1, -1, -1, -1, -1, -1, -1,  1,\n",
       "        -1,  1, -1, -1, -1, -1,  1, -1, -1, -1, -1, -1, -1, -1, -1, -1, -1,\n",
       "        -1, -1, -1, -1, -1, -1, -1, -1, -1, -1, -1, -1, -1, -1, -1, -1, -1,\n",
       "        -1, -1,  1, -1, -1, -1, -1, -1, -1, -1, -1, -1, -1, -1, -1, -1, -1,\n",
       "        -1, -1, -1, -1, -1, -1, -1, -1, -1, -1, -1, -1, -1, -1, -1, -1, -1,\n",
       "        -1,  1, -1, -1, -1, -1, -1, -1, -1, -1, -1, -1, -1, -1, -1, -1, -1,\n",
       "        -1, -1, -1, -1, -1, -1, -1]),\n",
       " 9: array([-1, -1, -1, -1,  1, -1, -1, -1, -1,  1, -1, -1, -1, -1,  1, -1, -1,\n",
       "        -1, -1, -1, -1, -1, -1, -1, -1,  1, -1,  1, -1, -1, -1, -1,  1, -1,\n",
       "         1, -1, -1, -1, -1, -1, -1, -1, -1, -1, -1, -1, -1, -1, -1, -1,  1,\n",
       "        -1, -1, -1, -1, -1, -1, -1, -1, -1, -1, -1, -1, -1, -1, -1, -1, -1,\n",
       "        -1, -1, -1, -1, -1, -1, -1, -1, -1, -1, -1, -1, -1, -1, -1,  1, -1,\n",
       "        -1, -1, -1, -1, -1, -1,  1, -1,  1, -1, -1, -1, -1, -1, -1, -1, -1,\n",
       "        -1, -1, -1, -1, -1, -1, -1,  1, -1, -1, -1, -1,  1,  1, -1, -1, -1,\n",
       "        -1, -1, -1, -1,  1, -1, -1, -1, -1, -1, -1, -1, -1, -1, -1, -1, -1,\n",
       "        -1, -1, -1, -1, -1, -1, -1, -1, -1, -1, -1, -1, -1, -1, -1,  1,  1,\n",
       "        -1, -1, -1, -1, -1, -1, -1, -1, -1, -1, -1, -1,  1, -1, -1, -1, -1,\n",
       "        -1, -1, -1, -1, -1, -1, -1, -1, -1, -1,  1, -1, -1, -1, -1,  1, -1,\n",
       "        -1, -1, -1, -1, -1, -1, -1, -1, -1, -1, -1, -1, -1, -1, -1, -1, -1,\n",
       "        -1, -1, -1,  1, -1, -1,  1, -1, -1, -1, -1, -1, -1, -1, -1, -1, -1,\n",
       "        -1, -1, -1, -1, -1, -1, -1, -1, -1, -1, -1, -1,  1, -1, -1, -1, -1,\n",
       "        -1, -1, -1, -1, -1, -1, -1, -1, -1,  1, -1, -1, -1, -1, -1, -1, -1,\n",
       "        -1, -1, -1, -1, -1, -1, -1, -1, -1, -1, -1, -1, -1, -1, -1, -1, -1,\n",
       "        -1, -1, -1, -1, -1, -1, -1, -1, -1, -1, -1,  1, -1, -1,  1, -1, -1,\n",
       "        -1,  1, -1, -1, -1, -1, -1, -1, -1, -1, -1,  1, -1, -1, -1, -1, -1,\n",
       "         1, -1, -1, -1, -1, -1, -1, -1,  1,  1, -1, -1, -1, -1, -1, -1, -1,\n",
       "        -1, -1, -1,  1, -1, -1, -1, -1, -1, -1, -1, -1, -1, -1,  1, -1,  1,\n",
       "         1, -1, -1, -1,  1,  1, -1, -1, -1, -1, -1, -1, -1, -1, -1, -1, -1,\n",
       "        -1, -1, -1, -1, -1, -1, -1, -1, -1, -1, -1, -1, -1, -1, -1,  1, -1,\n",
       "        -1, -1, -1,  1, -1, -1, -1, -1, -1, -1, -1, -1, -1, -1,  1, -1,  1,\n",
       "        -1, -1, -1, -1, -1, -1, -1, -1,  1,  1,  1,  1, -1, -1,  1, -1, -1,\n",
       "        -1, -1, -1, -1,  1, -1, -1, -1, -1, -1, -1, -1, -1, -1, -1, -1, -1,\n",
       "        -1, -1, -1,  1, -1,  1, -1, -1, -1, -1, -1, -1, -1, -1, -1, -1, -1,\n",
       "        -1, -1, -1, -1, -1,  1, -1])}"
      ]
     },
     "execution_count": 506,
     "metadata": {},
     "output_type": "execute_result"
    }
   ],
   "source": [
    "# Initialiser un dictionnaire pour stocker les résultats\n",
    "Y_temp = {}\n",
    "\n",
    "# Boucle sur les classes\n",
    "for i in range(num_classes):\n",
    "    Y_temp[i] = np.where(Y == i, 1, -1)\n",
    "    \n",
    "Y_temp"
   ]
  },
  {
   "cell_type": "code",
   "execution_count": 507,
   "metadata": {},
   "outputs": [
    {
     "data": {
      "text/plain": [
       "array([[-0.98020718, -0.81609865, -0.24339692,  1.63202389,  0.73024663,\n",
       "         0.05661532,  1.03124695,  1.13867227, -1.55029459, -0.20974396,\n",
       "        -0.46684346,  1.52032751, -0.92604856, -0.59679379,  1.08299971,\n",
       "        -0.14419871,  1.28549327, -0.02091226, -0.05164976,  1.03125521,\n",
       "        -0.34427287, -0.993251  , -0.43399479,  0.96079076, -1.2131605 ,\n",
       "        -0.10666828, -2.03664171, -1.71052998,  0.46975288, -0.41010013,\n",
       "         0.75042847, -1.28623453, -1.82115544,  0.64982187,  0.23828254,\n",
       "        -1.38153848,  1.31299675,  0.23684341, -0.33709385,  0.01938519,\n",
       "        -1.15939959, -0.28030702, -0.20588802,  2.87137935, -0.06415914,\n",
       "        -1.7613251 , -1.12078223, -0.46817155,  0.06172845,  1.24850376,\n",
       "         0.37621657,  1.20550686, -0.11111084,  0.66699357,  0.77964435,\n",
       "        -1.38851845, -1.2806068 , -0.30866456, -0.90718466, -0.23232861,\n",
       "        -0.61042916, -0.13666466, -1.02874982, -1.76766475,  0.55888386],\n",
       "       [ 0.19339654, -0.64767853, -0.01930145, -0.6081336 ,  0.62563618,\n",
       "         1.64247799,  1.7748923 , -0.68453463, -0.76174075, -1.30400673,\n",
       "         0.9031251 ,  1.17219074,  1.51768949,  0.7933353 ,  0.51293735,\n",
       "         0.57533177,  0.16554148, -0.67891116,  0.25439673,  1.04853074,\n",
       "         0.54785881,  1.2343613 ,  0.99981852,  0.75657239,  0.84523687,\n",
       "         0.02641237, -0.21238018, -1.41678615, -1.58333639,  0.30781065,\n",
       "        -0.20139672, -0.03678154, -1.10401078,  1.38319271,  0.83038659,\n",
       "         1.19066819,  0.17939062,  0.01748948,  0.11001897,  0.30034051,\n",
       "        -1.26381004, -0.35336438,  0.10669079,  1.68251289, -1.91670496,\n",
       "         2.30070448, -1.29127198, -2.25993608, -0.15702021, -0.68873027,\n",
       "        -0.85241521, -1.15032869,  0.39060928,  0.11710498, -0.67962671,\n",
       "         1.73326753,  0.7557013 ,  0.24071009, -1.11588953, -1.64105726,\n",
       "        -1.38666118, -0.80127275,  0.55215867,  0.52868069,  0.90764448],\n",
       "       [ 0.69550275,  0.02296802,  0.07785649,  0.35929853,  0.80396119,\n",
       "        -1.86766949, -0.6467541 , -0.43592908, -0.39791086, -2.19361598,\n",
       "         1.20943105, -0.11404288, -0.02656385, -0.08016536, -0.19289265,\n",
       "        -1.62047941,  1.16759154,  1.65404256, -0.23005129,  1.07992072,\n",
       "        -0.63318386, -0.01570123,  0.57709683, -0.80625311, -0.88364699,\n",
       "         0.77678788,  0.29837985,  0.70814395,  0.06525377,  0.19043755,\n",
       "        -1.34177735, -1.07719113,  1.18151728,  0.49949374,  0.57621522,\n",
       "        -2.13701861, -0.54422668,  0.51309446, -0.39837683,  0.63188725,\n",
       "        -1.70439847, -0.09614608,  0.78272999,  2.60562411,  0.75155797,\n",
       "        -0.44805732, -1.6124392 ,  1.16570349, -0.63385378,  1.39286654,\n",
       "        -0.98500241,  0.91204801,  0.45011228,  0.23954528, -0.97114663,\n",
       "        -0.36898999,  1.15092316,  2.23184297,  0.98202022,  0.15336187,\n",
       "        -0.269075  ,  1.38415685, -0.21591687, -1.62955682,  2.3628906 ],\n",
       "       [ 0.10178142,  0.11844033,  0.39732808,  0.6727692 , -1.86498605,\n",
       "        -0.13866669, -0.0533711 , -0.71218282, -0.80533308,  0.37495285,\n",
       "        -0.80270806,  0.63202247, -0.56937701,  0.39097769,  0.08970441,\n",
       "         0.22136645, -0.17109365,  1.45344493, -0.53748217,  0.05038746,\n",
       "         1.23897644,  0.24055936, -0.84554046, -0.27135749,  1.09400726,\n",
       "        -1.5883535 ,  1.04474861,  1.13847376,  1.21524811,  0.32781424,\n",
       "         0.12930326,  0.38713479,  0.96909537, -0.22080955,  0.6578628 ,\n",
       "        -0.05271384,  0.39989929, -0.34883861, -0.01347572, -0.12227861,\n",
       "         0.49171102, -0.69543655,  1.33178389,  0.97314047, -0.13245504,\n",
       "         0.16141547,  0.21588747,  1.27784891,  0.02327568,  0.04077257,\n",
       "        -1.00600985, -0.64028427, -0.18116204,  0.28512913, -0.90321708,\n",
       "         1.03866575,  0.08686621,  0.63645482, -0.04309999, -0.42114641,\n",
       "         0.51952533,  0.13159838,  0.77662509,  0.10773319,  1.34546768],\n",
       "       [ 0.19227243, -0.58224993, -0.40659608, -2.09490068, -0.38614481,\n",
       "        -1.18764936,  0.19997233, -0.19082149,  0.17546301,  1.40259135,\n",
       "        -0.10053196,  1.7733039 ,  0.50776683, -0.85651186, -0.06356832,\n",
       "        -0.39136298, -0.25632262,  1.19850897, -0.26498658, -2.41428911,\n",
       "         0.54264283,  1.33406347,  0.24074396, -0.34818186, -0.25491849,\n",
       "         0.05917591,  0.15584861,  1.93792108, -2.24370907,  1.06322804,\n",
       "        -0.57572467,  0.40750867,  0.54636165,  0.26688523,  0.52464786,\n",
       "         1.19535966,  0.06517277,  1.15831655,  0.29297582,  0.66843728,\n",
       "        -0.75710796,  0.27791691,  1.5863825 ,  0.49752176,  2.116717  ,\n",
       "        -1.17041039, -1.67707885,  0.05941844, -0.22912534, -0.27615966,\n",
       "        -0.04976949, -0.50369388, -0.84718295, -1.22144743, -1.93432345,\n",
       "        -0.1590915 ,  0.21933576, -1.46926859,  0.04560446,  1.61946086,\n",
       "         0.32772241,  0.36486376, -0.77930648, -0.05358874, -0.08864846],\n",
       "       [-0.16638121,  0.9292021 , -1.0604419 , -0.09310656,  1.30004044,\n",
       "         0.65326857, -0.75849211, -0.05526057, -0.30591363, -0.27786656,\n",
       "        -1.37998809,  1.06922376, -0.84083895, -0.52203564, -1.24760072,\n",
       "         1.0538873 ,  0.63778825,  0.65704054,  1.53364829, -0.82005867,\n",
       "        -0.88245546, -0.82575888,  0.82581927,  1.25966101, -0.33763086,\n",
       "        -1.30580373,  0.50021657,  1.52681906, -0.91824902,  0.98846829,\n",
       "         1.75358763,  0.02492921,  0.46674222, -0.12777365, -2.21148646,\n",
       "         1.06452006, -0.11403224, -1.37831546, -0.68441427, -2.11763327,\n",
       "        -1.19282293, -0.96678814,  0.58984538, -0.65056306, -1.85765524,\n",
       "        -1.34955019, -1.17231649, -0.97397681, -0.89325192, -2.84853156,\n",
       "        -0.85759176, -0.16509091,  0.88261745,  0.09292349, -2.34765931,\n",
       "         0.16528617,  0.4534164 ,  0.2257154 ,  1.29127104, -0.09527301,\n",
       "        -0.43329022,  0.73905676, -0.64714594,  0.84890166,  1.52239465],\n",
       "       [ 1.01191904, -0.53765277,  0.41553428, -0.59450496, -1.27377863,\n",
       "         0.00971201,  1.87585625, -0.33807974,  1.41967903, -0.81549051,\n",
       "         1.32421459, -0.50927761,  0.07009568, -0.89097548, -0.25179039,\n",
       "         0.62437521,  1.60410357,  2.204378  ,  0.47520737, -1.25069226,\n",
       "         0.53953353,  0.95864263,  0.02860792, -0.49601996,  0.66106124,\n",
       "         0.67975622,  0.6832889 ,  0.2588686 , -1.33850716, -1.3106384 ,\n",
       "        -0.34007163,  0.12409466,  0.12869414,  1.55397637,  0.09574467,\n",
       "         1.32610172,  0.71270073,  0.67327582,  0.47528245, -2.64260691,\n",
       "         0.86319826, -0.27681351,  0.45238312, -0.38369298,  0.95416617,\n",
       "        -0.91505073,  0.63255134, -0.96339029, -0.39930859,  0.61116433,\n",
       "         0.37670444,  0.0421099 , -0.64568812, -0.1661069 ,  1.43016079,\n",
       "         0.17970494, -0.37792042,  0.02629666,  0.03346298,  0.0749009 ,\n",
       "        -1.22909419, -0.19503979, -2.26715507,  1.2073462 ,  1.34647988],\n",
       "       [-1.39849454, -0.85236874,  1.41131416,  1.83281711, -0.06421085,\n",
       "        -1.3809602 , -0.23630769, -1.17779455,  1.30786001, -3.01657341,\n",
       "         0.38602616,  2.37949295,  1.01151174,  0.31641113,  0.17355601,\n",
       "        -1.01592114, -0.43688066, -0.09770143,  0.21567715, -0.46826573,\n",
       "        -0.33997585,  0.13612693, -1.20404871,  0.5884238 ,  0.2728832 ,\n",
       "        -1.79994247,  1.02311901,  0.95161313, -0.44558157, -1.5348645 ,\n",
       "         0.12022181,  0.36893997,  0.82954757,  0.94877075,  0.46746973,\n",
       "        -0.90468476, -0.42586792, -0.17034264,  0.22391368,  0.1998352 ,\n",
       "        -0.82449505, -1.36178098, -0.2639501 , -0.78043677,  0.42421146,\n",
       "         0.02294592,  0.53663488, -1.08038424, -0.39318642,  0.10751474,\n",
       "        -0.08476494, -1.00521593, -0.78663975, -0.89955432, -0.07762159,\n",
       "        -0.10125772, -0.02213866, -0.46633935, -0.0678436 ,  1.14423571,\n",
       "         0.35015575,  1.32894883,  0.70853453,  0.27409008,  0.96676602],\n",
       "       [-0.08055119, -0.2792871 , -0.37472134,  1.2008581 , -0.01585372,\n",
       "         1.07067727, -0.0271262 , -0.19498336, -2.00572948, -0.38106506,\n",
       "        -0.27638758,  1.62372808,  0.47982938,  0.68205875, -0.12164974,\n",
       "         0.46109154, -0.42892283, -0.45291191, -0.6886359 ,  1.07804851,\n",
       "         0.55834803, -1.03758399, -0.49607812,  0.31313299, -0.35083586,\n",
       "         0.94937419, -1.23419634, -0.29558302, -0.26134057,  2.13560705,\n",
       "        -0.21637178, -0.53193267, -0.64451156,  0.14944484, -0.97111835,\n",
       "        -2.04632445,  1.01213995,  1.01022931, -1.40839066,  0.57101648,\n",
       "         0.54743128, -0.72623075,  0.61169607, -1.13881739, -0.35615644,\n",
       "        -0.52691916,  0.27010714,  0.69856829, -2.0796471 ,  0.41070601,\n",
       "        -2.1715052 ,  1.28836191,  0.83425845,  0.99756256,  0.3090364 ,\n",
       "         0.22965312, -1.17048074,  0.41909063, -0.06810556,  1.86919681,\n",
       "         0.58757148, -0.47467764,  1.50889484,  0.97122149,  0.81158755],\n",
       "       [-0.41259428, -1.03470224,  1.34773803,  1.32739786,  1.00713468,\n",
       "        -1.61723274, -0.36011711,  1.2033903 , -1.00607896,  0.41071896,\n",
       "         0.04195895,  2.08747362,  0.61718437, -0.25306435,  0.53168614,\n",
       "         0.57177685, -0.08441089,  0.73455733,  0.25036611, -1.1914165 ,\n",
       "        -0.36396641, -0.03247518,  0.82364259, -0.52648612, -0.00844466,\n",
       "        -0.30706813, -0.66821123, -0.46904413,  0.31263075,  0.63788684,\n",
       "         1.19723858,  1.55967888, -0.129837  ,  0.22227548,  0.61150994,\n",
       "         1.31339059,  0.63971227,  0.95846531, -0.32736734,  0.48183061,\n",
       "         0.47464421, -0.25627052, -1.99872046,  1.16244539, -1.04975928,\n",
       "         0.06801642,  0.42801462, -1.22409122,  0.24153145,  0.85660251,\n",
       "         1.24228047, -0.02853221, -0.29103382, -1.67137265, -1.92455077,\n",
       "         1.48099401, -1.58503239,  0.68679841, -0.42917945,  0.90461945,\n",
       "        -1.03435346,  0.31724262, -0.05210087, -1.05007851,  2.263392  ]])"
      ]
     },
     "execution_count": 507,
     "metadata": {},
     "output_type": "execute_result"
    }
   ],
   "source": [
    "from scipy.optimize import LinearConstraint, minimize\n",
    "# Initialiser une matrice W\n",
    "W = np.empty((num_classes, n + 1))\n",
    "\n",
    "# Boucle sur les classes\n",
    "for i in range(num_classes):\n",
    "    Y_temp_i = Y_temp[i]\n",
    "    Phi_i = np.hstack((Y_temp_i.reshape((-1, 1)) * X, Y_temp_i.reshape((-1, 1))))\n",
    "\n",
    "    LinearConstraint_i = LinearConstraint(Phi_i, infini, e)\n",
    "\n",
    "    w_sol_scipy_i = minimize(\n",
    "        fun=objectif,\n",
    "        constraints=LinearConstraint_i,\n",
    "        x0=np.random.randn(n + 1),\n",
    "    ).x\n",
    "\n",
    "    a_i = w_sol_scipy_i[:-1]\n",
    "    b_i = w_sol_scipy_i[-1]\n",
    "\n",
    "    # Stocker le couple (a_i, b_i) comme ligne de la matrice W\n",
    "    W[i, :] = np.concatenate((a_i, [b_i]))\n",
    "W"
   ]
  },
  {
   "cell_type": "code",
   "execution_count": 508,
   "metadata": {},
   "outputs": [
    {
     "data": {
      "text/plain": [
       "0.5588838561616835"
      ]
     },
     "execution_count": 508,
     "metadata": {},
     "output_type": "execute_result"
    }
   ],
   "source": [
    "W[0,n]"
   ]
  },
  {
   "cell_type": "markdown",
   "metadata": {},
   "source": [
    "**2)** Vérifiez que la matrice `W` obtenue donne de bons résultats. Pour cela, pous pourrez prendre une image quelconque, et la passer dans le classifieur binaire pour chaque ligne de `W` : il devrait renvoyer +1 seulement pour le bon indice."
   ]
  },
  {
   "cell_type": "code",
   "execution_count": 509,
   "metadata": {},
   "outputs": [
    {
     "name": "stdout",
     "output_type": "stream",
     "text": [
      "+ 1\n"
     ]
    }
   ],
   "source": [
    "#Prendre une image au hasard dans X\n",
    "random_index = random.randint(0, len(X) - 1)\n",
    "image = X[random_index]\n",
    "for i in range (num_classes) :\n",
    "    w= (W[i,:n],W[i,n])\n",
    "    # Faire la prédiction avec le classifieur\n",
    "    prediction = classifieur(image,w)\n",
    "    # Obtenir l'étiquette réelle\n",
    "    true_label = Y_temp[i][random_index]\n",
    "\n",
    "    if prediction ==1 and true_label == prediction : print(\"+\",Y_temp[i][random_index])\n"
   ]
  },
  {
   "cell_type": "markdown",
   "metadata": {},
   "source": [
    "**3)** Définir une fonction `classifieur_general` qui:\n",
    "\n",
    "- prend en entrée une donnée $x$ et une matrice de paramètres  $W \\in \\mathcal{M}_{10, n+1}(\\mathbb{R})$\n",
    "- pour chaque chiffre `i` entre 0 et 9, utilise le classifieur binaire induit par `W[i,:]` pour déterminer si $x$ est égal à `i` ou non\n",
    "- renvoie `i` si $x$ est égal à `i`\n",
    "- pensez à faire en sorte que la fonction renvoie toujours quelque chose\n",
    "\n",
    "Vous testerez sur un exemple que cela marche bien."
   ]
  },
  {
   "cell_type": "code",
   "execution_count": 510,
   "metadata": {},
   "outputs": [],
   "source": [
    "def classifieur_general(x, W,is_test_data=False):\n",
    "    \n",
    "    if is_test_data == False :\n",
    "        \n",
    "        x_index = [index for index, value in enumerate(X) if np.array_equal(value, x)]\n",
    "        if len(x_index)!=0:\n",
    "            for i in range(10):\n",
    "                w= (W[i,:n],W[i,n])\n",
    "                prediction = classifieur(x,w)\n",
    "                true_label = Y_temp[i][x_index[0]]\n",
    "                if prediction ==1 and true_label==prediction : return i\n",
    "    elif is_test_data== True:\n",
    "        \n",
    "        x_index = [index for index, value in enumerate(X_test) if np.array_equal(value, x)]\n",
    "        for i in range(10):\n",
    "            w= (W[i,:n],W[i,n])\n",
    "            prediction = classifieur(x,w)\n",
    "            true_label = Y_test[x_index[0]]\n",
    "            if prediction ==1 and true_label==prediction : return i\n",
    "        \n",
    "        \n",
    "        "
   ]
  },
  {
   "cell_type": "code",
   "execution_count": 514,
   "metadata": {},
   "outputs": [
    {
     "name": "stdout",
     "output_type": "stream",
     "text": [
      "l'image se trouvant en position 8 a pour étiquette  9\n",
      "prédiction de notre classifieur 9\n"
     ]
    }
   ],
   "source": [
    "#tests\n",
    "\n",
    "print(\"l'image se trouvant en position 8 a pour étiquette \",Y[9])\n",
    "print(\"prédiction de notre classifieur\",classifieur_general(X[9],W,False))"
   ]
  },
  {
   "cell_type": "markdown",
   "metadata": {},
   "source": [
    "**4)** Appliquez votre `classifieur_general` aux données de test, comme au **II.3.1)**. Quel est le pourcentage de bonnes réponses de votre classifieur? Que pensez-vous du résultat?"
   ]
  },
  {
   "cell_type": "code",
   "execution_count": 458,
   "metadata": {},
   "outputs": [
    {
     "name": "stdout",
     "output_type": "stream",
     "text": [
      "Pourcentage de bonnes réponses : 0.89%\n"
     ]
    }
   ],
   "source": [
    "# Calcul du pourcentage de bonnes réponses\n",
    "correct_predictions = 0\n",
    "total_predictions = len(X_test)\n",
    "\n",
    "for i in range(len(X_test)):\n",
    "    image = X_test[i]\n",
    "    true_label = Y_test[i]\n",
    "    prediction = classifieur_general(image, W,True)\n",
    "\n",
    "    if prediction == true_label:\n",
    "        correct_predictions += 1\n",
    "\n",
    "accuracy = correct_predictions / total_predictions * 100\n",
    "print(\"Pourcentage de bonnes réponses : {:.2f}%\".format(accuracy))"
   ]
  },
  {
   "cell_type": "code",
   "execution_count": 180,
   "metadata": {},
   "outputs": [
    {
     "data": {
      "text/plain": [
       "1348"
      ]
     },
     "execution_count": 180,
     "metadata": {},
     "output_type": "execute_result"
    }
   ],
   "source": [
    "len(Y_test)"
   ]
  },
  {
   "cell_type": "markdown",
   "metadata": {
    "tags": []
   },
   "source": [
    "### d. Construction d'un classifieur général amélioré\n",
    "\n"
   ]
  },
  {
   "cell_type": "markdown",
   "metadata": {},
   "source": [
    "Le classifieur précédent souffre de quelques défauts.\n",
    "Par exemple, si une image est classée comme appartenant à deux classes, comment choisir laquelle des deux est la meilleure?\n",
    "Et si une image apparait classée comme appartenant à aucune classe, comment choisir quelle classe est la moins mauvaise?\n",
    "On donc besoin que les classifieurs binaires renvoient un peu plus que une réponse $\\pm 1$ pour chaque chiffre : il nous faut également un indice de confiance, une *probabilité* que la réponse $\\pm 1$ soit correcte.\n",
    "\n",
    "Par exemple, imaginons que le classifieur biniaire \"0 vs. le reste\" nous dise que $\\mathbb{P}(x=0) = 0.4$. Dans ce cas on pourrait conclure que $x$ n'est pas un 0, puisque $\\mathbb{P}(x\\neq 0) = 0.6$. Mais si tous les autres classifieurs binaires nous disent également que $\\mathbb{P}(x=k) = 0.01$, alors on pourrait se dire que 0 est la moins mauvaise réponse.\n",
    "\n",
    "Pour notre problème, cette probabilité va être liée à la distance entre la donnée $x$ et l'hyperplan séparateur $H_w$ : plus la donnée est proche de l'hyperplan, et moins on aura confiance en la prédiction, donc plus basse sera la probabilité."
   ]
  },
  {
   "cell_type": "markdown",
   "metadata": {},
   "source": [
    "**1)** Définir une fonction `classifieur_general2` qui reprend le principe de `classifieur_general`. Cette fois-ci, l'indice `i` renvoyé sera selui qui maximise la probabilité $p_i$, où $p \\in \\mathbb{R}^{10}$ est défini par :\n",
    "\n",
    "$$ p_i := \\frac{e^{v_i}}{\\sum\\limits_{j=1}^p e^{v_j}},\n",
    "\\quad\n",
    "v_i := \\langle a^i, x \\rangle + b^i\n",
    "$$\n",
    "avec `W[i,:]`$=(a^i, b^i)$. \n",
    "Vous testerez sur un exemple que votre fonction marche bien."
   ]
  },
  {
   "cell_type": "code",
   "execution_count": 111,
   "metadata": {},
   "outputs": [],
   "source": [
    "import numpy as np\n",
    "\n",
    "def classifieur_general2(x, W):\n",
    "    n = x.shape[0]  # Nombre de caractéristiques de la donnée x\n",
    "    scores = np.zeros(10)  # Tableau pour stocker les scores des classes\n",
    "    \n",
    "    for i in range(10):\n",
    "        a, b = W[i, :n], W[i, n]\n",
    "        score = np.dot(a, x) + b  # Calcul du score pour la classe i\n",
    "        scores[i] = score\n",
    "\n",
    "    probabilities = np.exp(scores) / np.sum(np.exp(scores))  # Calcul des probabilités\n",
    "    max_probability_index = np.argmax(probabilities)  # Indice de la classe avec la probabilité maximale\n",
    "\n",
    "    return max_probability_index\n",
    "\n"
   ]
  },
  {
   "cell_type": "code",
   "execution_count": 118,
   "metadata": {},
   "outputs": [
    {
     "data": {
      "text/plain": [
       "9"
      ]
     },
     "execution_count": 118,
     "metadata": {},
     "output_type": "execute_result"
    }
   ],
   "source": [
    "classifieur_general2(X[1],W)"
   ]
  },
  {
   "cell_type": "code",
   "execution_count": 119,
   "metadata": {},
   "outputs": [
    {
     "data": {
      "text/plain": [
       "3"
      ]
     },
     "execution_count": 119,
     "metadata": {},
     "output_type": "execute_result"
    }
   ],
   "source": [
    "Y[1]"
   ]
  },
  {
   "cell_type": "markdown",
   "metadata": {},
   "source": [
    "**2)** Estimer la performance de votre nouveau classifieur sur les données de test. Comparer avec le classifieur précédent. "
   ]
  },
  {
   "cell_type": "code",
   "execution_count": null,
   "metadata": {},
   "outputs": [],
   "source": []
  },
  {
   "cell_type": "code",
   "execution_count": null,
   "metadata": {},
   "outputs": [],
   "source": []
  },
  {
   "cell_type": "markdown",
   "metadata": {},
   "source": [
    "**Pour aller plus loin:** \n",
    "\n",
    "- Rien ne vous empêche de dessiner vos propres chiffres, et de tester si votre classifieur le reconnait.. Pour cela il vous suffit de produire une image carrée, de la redimensionner en image 8x8, puis de l'importer dans python.\n",
    "- Il existe d'autres façons de faire de la classification multiclasse. C'est simplement et rapidement expliqué dans [ce cours en ligne](https://openclassrooms.com/fr/courses/4444646-entrainez-un-modele-predictif-lineaire/4507846-classifiez-vos-donnees-en-plus-de-deux-classes) de Chloé-Agathe Azencott."
   ]
  },
  {
   "cell_type": "markdown",
   "metadata": {},
   "source": [
    "**Notes**\n",
    "\n",
    "Ressources utilisées pour le chargment et utilisation de MNIST:\n",
    "\n",
    "- https://dmkothari.github.io/Machine-Learning-Projects/SVM_with_MNIST.html\n",
    "- https://towardsdatascience.com/support-vector-machine-mnist-digit-classification-with-python-including-my-hand-written-digits-83d6eca7004a\n",
    "- https://scikit-learn.org/stable/auto_examples/classification/plot_digits_classification.html"
   ]
  },
  {
   "cell_type": "markdown",
   "metadata": {},
   "source": [
    "**Avant de partir:** pensez à bien relire les instructions en début de devoir!"
   ]
  }
 ],
 "metadata": {
  "kernelspec": {
   "display_name": "Python 3 (ipykernel)",
   "language": "python",
   "name": "python3"
  },
  "language_info": {
   "codemirror_mode": {
    "name": "ipython",
    "version": 3
   },
   "file_extension": ".py",
   "mimetype": "text/x-python",
   "name": "python",
   "nbconvert_exporter": "python",
   "pygments_lexer": "ipython3",
   "version": "3.10.9"
  }
 },
 "nbformat": 4,
 "nbformat_minor": 4
}
